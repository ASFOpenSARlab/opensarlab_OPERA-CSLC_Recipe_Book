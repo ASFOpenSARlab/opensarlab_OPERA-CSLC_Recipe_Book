{
 "cells": [
  {
   "cell_type": "markdown",
   "id": "bc87f32b-195e-483b-b56f-925919866113",
   "metadata": {},
   "source": [
    "# Install Required Software with Conda\n",
    "\n",
    "**Create the Conda Software Environment for the opensarlab_OPERA-CSLC-S1_Recipe_Book**\n",
    "\n",
    "<div class=\"alert alert-info\" style=\"display: flex; align-items: center; font-family: 'Times New Roman', Times, serif; background-color: #d1ecf1;\">\n",
    "  <div style=\"display: flex; align-items: center; width: 10%;\">\n",
    "    <a href=\"https://github.com/ASFOpenSARlab/opensarlab_OPERA-CSLC_Recipe_Book/issues\">\n",
    "      <img src=\"https://opensarlab-docs.asf.alaska.edu/opensarlab-notebook-assets/logos/github_issues.png\" alt=\"GitHub logo over the word Issues\" style=\"width: 100%;\">\n",
    "    </a>\n",
    "  </div>\n",
    "  <div style=\"width: 95%;\">\n",
    "    <b>Did you find a bug? Do you have a feature request?</b>\n",
    "    <br/>\n",
    "    Explore GitHub Issues on this Jupyter Book's GitHub repository. Find solutions, add to the discussion, or start a new bug report or feature request: <a href=\"https://github.com/ASFOpenSARlab/opensarlab_OPERA-CSLC_Recipe_Book/issues\">opensarlab_OPERA-CSLC_Recipe_Book Issues</a>\n",
    "  </div>\n",
    "</div>\n",
    "\n",
    "<div class=\"alert alert-info\" style=\"display: flex; align-items: center; justify-content: space-between; font-family: 'Times New Roman', Times, serif; background-color: #d1ecf1;\">\n",
    "  <div style=\"display: flex; align-items: center; width: 10%; margin-right: 10px;\">\n",
    "    <a href=\"mailto:uso@asf.alaska.edu\">\n",
    "      <img src=\"https://opensarlab-docs.asf.alaska.edu/opensarlab-notebook-assets/logos/ASF_support_logo.png\" alt=\"ASF logo\" style=\"width: 100%\">\n",
    "    </a>\n",
    "  </div>\n",
    "  <div style=\"width: 95%;\">\n",
    "    <b>Have a question related to SAR, OPERA CSLCs, or ASF data access?</b>\n",
    "    <br/>\n",
    "    Contact ASF User Support: <a href=\"mailto:uso@asf.alaska.edu\">uso@asf.alaska.edu</a>\n",
    "  </div>\n",
    "</div>\n",
    "\n",
    "---\n",
    "## 0. Set the Correct Conda Enviroment Prefix if Working in OpenSARLab\n",
    "\n",
    "OpenSARLab requires a specific environment prefix path to create a persistent environment that Jupyter will recognize.\n",
    "\n",
    "\n",
    "If you are working in [OpenSARLab](https://asf.alaska.edu/asf-services-open-science-lab/), we will use `~/.local/envs`, otherwise we will use your system's conda `root_prefix` path."
   ]
  },
  {
   "cell_type": "code",
   "execution_count": null,
   "id": "43ff4e81-6ded-438e-94ca-2b0c7de263a2",
   "metadata": {},
   "outputs": [],
   "source": [
    "import ipywidgets as widgets\n",
    "\n",
    "osl_option = widgets.RadioButtons(\n",
    "    options=['In OpenSARLab', 'Not in OpenSARLab'],\n",
    "    description='Where are you working?',\n",
    "    disabled=False,\n",
    "    layout=widgets.Layout(min_width='800px')\n",
    ")\n",
    "display(osl_option)"
   ]
  },
  {
   "cell_type": "code",
   "execution_count": null,
   "id": "e77f1426-9c37-4106-af08-73ec3ec12bde",
   "metadata": {},
   "outputs": [],
   "source": [
    "from pathlib import Path\n",
    "\n",
    "env_config_dir = Path.cwd() / 'environments'\n",
    "\n",
    "in_osl = 'In' in osl_option.value\n",
    "\n",
    "if in_osl:\n",
    "    conda_prefix = Path.home() / '.local/envs'\n",
    "else:\n",
    "    conda_info = subprocess.run(\n",
    "        ['conda', 'run', '-n', 'base', 'conda', 'info', '--json'], \n",
    "        capture_output=True, \n",
    "        text=True\n",
    "    )\n",
    "    info = json.loads(conda_info.stdout)\n",
    "    conda_prefix = Path(f\"{info['root_prefix']}/envs\")\n",
    "print(f'conda prefix: {conda_prefix}')"
   ]
  },
  {
   "cell_type": "markdown",
   "id": "cdefb298-9cea-4b3d-9035-7e67ff402e6e",
   "metadata": {},
   "source": [
    "---\n",
    "## 1. Build the `osl_opera_cslc_jbook_env` Conda Environment\n",
    "\n",
    "**Select whether to create the environment from configs with explicitly pinned package versions or from unpinned configs**\n",
    "\n",
    "After running the following code cell:\n",
    "- Select `Pinned` for maximum (but not guaranteed) stability when creating the environment on a Linux x86 system\n",
    "- Select `Unpinned` to attempt installing the latest package versions or if on a non-Linux x86 system"
   ]
  },
  {
   "cell_type": "code",
   "execution_count": null,
   "id": "318afacf-fce5-4586-923f-efb1f3ffa58c",
   "metadata": {},
   "outputs": [],
   "source": [
    "config_options = widgets.RadioButtons(\n",
    "    options=['Pinned (recommended)', 'Unpinned'],\n",
    "    description='Create the environment from pinned or unpinned configs',\n",
    "    disabled=False,\n",
    "    layout=widgets.Layout(min_width='800px')\n",
    ")\n",
    "display(config_options)"
   ]
  },
  {
   "cell_type": "code",
   "execution_count": null,
   "id": "764d17c5-2a03-40f1-916b-8a8023007dd9",
   "metadata": {},
   "outputs": [],
   "source": [
    "import yaml\n",
    "\n",
    "pinned = 'Pinned' in config_options.value\n",
    "if pinned:\n",
    "    yaml_name =  'opensarlab_OPERA-CSLC_recipe_book_locked_env.yaml'\n",
    "else:\n",
    "    yaml_name = 'opensarlab_OPERA-CSLC_recipe_book_unlocked_env.yaml'\n",
    "\n",
    "conda_yaml_pth = list(env_config_dir.glob(yaml_name))[0]\n",
    "with open(conda_yaml_pth, 'r') as f:\n",
    "    env = yaml.safe_load(f)\n",
    "    env_name = env['name']\n",
    "\n",
    "env_prefix = conda_prefix / env_name\n",
    "\n",
    "print(f'environment name: {env_name}')\n",
    "print(f'environment prefix: {env_prefix}')"
   ]
  },
  {
   "cell_type": "code",
   "execution_count": null,
   "id": "40deda7f-04bb-484b-87ff-66f04325934f",
   "metadata": {},
   "outputs": [],
   "source": [
    "!mamba clean -p -t --yes\n",
    "!pip cache purge"
   ]
  },
  {
   "cell_type": "code",
   "execution_count": null,
   "id": "df0ee2f8-4bfc-49c2-8733-f0568a7ba057",
   "metadata": {},
   "outputs": [],
   "source": [
    "import shutil\n",
    "\n",
    "# Create the environment\n",
    "!mamba env create -f $conda_yaml_pth --prefix $env_prefix --force\n",
    "\n",
    "# Provide access to the environment in notebooks as a Jupyter kernel named for the environment \n",
    "!{env_prefix}/bin/python -m ipykernel install --prefix {env_prefix} --name {env_name}\n",
    "\n",
    "# Having created a well-named kernel, and in case kernda is installed in base,\n",
    "# delete the default kernel named 'Python' to avoid duplicate buttons in the Launcher\n",
    "shutil.rmtree(env_prefix/'share/jupyter/kernels/python3')"
   ]
  },
  {
   "cell_type": "code",
   "execution_count": null,
   "id": "67a0a328-dfd6-467a-8459-90927d843469",
   "metadata": {},
   "outputs": [],
   "source": []
  }
 ],
 "metadata": {
  "kernelspec": {
   "display_name": "base",
   "language": "python",
   "name": "python3"
  },
  "language_info": {
   "codemirror_mode": {
    "name": "ipython",
    "version": 3
   },
   "file_extension": ".py",
   "mimetype": "text/x-python",
   "name": "python",
   "nbconvert_exporter": "python",
   "pygments_lexer": "ipython3",
   "version": "3.11.6"
  }
 },
 "nbformat": 4,
 "nbformat_minor": 5
}
