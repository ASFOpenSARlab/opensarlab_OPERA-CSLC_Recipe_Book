{
 "cells": [
  {
   "cell_type": "markdown",
   "id": "5ec14ba7-57fa-4e8c-8bff-9b5344461869",
   "metadata": {},
   "source": [
    "# Interferogram Generation with Dolphin\n",
    "\n",
    "https://dolphin-insar.readthedocs.io/en/latest/notebooks/walkthrough-basic/"
   ]
  },
  {
   "cell_type": "code",
   "execution_count": 18,
   "id": "ce388f42-4471-4ea5-998f-944d1bed0395",
   "metadata": {},
   "outputs": [],
   "source": [
    "import contextlib\n",
    "from ipyfilechooser import FileChooser\n",
    "import os\n",
    "from pathlib import Path\n",
    "from typing import Union"
   ]
  },
  {
   "cell_type": "code",
   "execution_count": 3,
   "id": "4018380f-1d56-4019-b91d-92721492c5fc",
   "metadata": {},
   "outputs": [
    {
     "name": "stdout",
     "output_type": "stream",
     "text": [
      "Select the directory holding you CSLCs\n"
     ]
    },
    {
     "data": {
      "application/vnd.jupyter.widget-view+json": {
       "model_id": "3532a53b36d54941a5c2383cc6575814",
       "version_major": 2,
       "version_minor": 0
      },
      "text/plain": [
       "FileChooser(path='/home/jovyan', filename='', title='', show_hidden=False, select_desc='Select', change_desc='…"
      ]
     },
     "metadata": {},
     "output_type": "display_data"
    }
   ],
   "source": [
    "print(\"Select the directory holding you CSLCs\")\n",
    "fc = FileChooser(Path.home())\n",
    "display(fc)"
   ]
  },
  {
   "cell_type": "code",
   "execution_count": 11,
   "id": "8ad204c4-804f-4f0a-adab-44f450333051",
   "metadata": {},
   "outputs": [
    {
     "data": {
      "text/plain": [
       "PosixPath('/home/jovyan/CSLC_test_dl')"
      ]
     },
     "execution_count": 11,
     "metadata": {},
     "output_type": "execute_result"
    }
   ],
   "source": [
    "cslc_dir = Path(fc.selected)\n",
    "insar_dir = cslc_dir/\"dolphin_InSAR\"\n",
    "insar_dir.mkdir(exist_ok=True)"
   ]
  },
  {
   "cell_type": "code",
   "execution_count": 9,
   "id": "7de093ee-8e46-4dd5-adba-135bf4d830e1",
   "metadata": {},
   "outputs": [],
   "source": [
    "@contextlib.contextmanager\n",
    "def work_dir(work_pth: Union[Path, str]):\n",
    "    \"\"\"\n",
    "    Temporarily change directories, within the scope of a with statement.\n",
    "    Useful when invoking scripts that only input files from the current working directory.\n",
    "\n",
    "    Usage:\n",
    "    with work_dir(work_pth):\n",
    "        do_things()\n",
    "    \"\"\"\n",
    "    cwd = Path.cwd()\n",
    "    os.chdir(work_pth)\n",
    "    try:\n",
    "        yield\n",
    "    finally:\n",
    "        os.chdir(cwd)"
   ]
  },
  {
   "cell_type": "code",
   "execution_count": 20,
   "id": "e6e45fc0-d2d6-4696-80b0-aa36e85a4b12",
   "metadata": {},
   "outputs": [
    {
     "name": "stdout",
     "output_type": "stream",
     "text": [
      "Saving configuration to dolphin_config.yaml\n"
     ]
    }
   ],
   "source": [
    "with work_dir(insar_dir):\n",
    "    !dolphin config --slc-files {cslc_dir}/*.h5 -sds data/VV"
   ]
  },
  {
   "cell_type": "code",
   "execution_count": 21,
   "id": "4176f7f0-514e-4ad9-9815-05c331f0f9e5",
   "metadata": {},
   "outputs": [
    {
     "name": "stdout",
     "output_type": "stream",
     "text": [
      "\u001b[2;36m[2023-12-15 21:31:27]\u001b[0m\u001b[2;36m \u001b[0m\u001b[34mINFO    \u001b[0m Running wrapped phase         \u001b]8;id=931428;file:///home/jovyan/.local/envs/dolphin-env/lib/python3.11/site-packages/dolphin/workflows/wrapped_phase.py\u001b\\\u001b[2mwrapped_phase.py\u001b[0m\u001b]8;;\u001b\\\u001b[2m:\u001b[0m\u001b]8;id=608132;file:///home/jovyan/.local/envs/dolphin-env/lib/python3.11/site-packages/dolphin/workflows/wrapped_phase.py#45\u001b\\\u001b[2m45\u001b[0m\u001b]8;;\u001b\\\n",
      "\u001b[2;36m                      \u001b[0m         estimation in                 \u001b[2m                   \u001b[0m\n",
      "\u001b[2;36m                      \u001b[0m         \u001b[35m/home/jovyan/CSLC_test_dl/\u001b[0m\u001b[95mdol\u001b[0m \u001b[2m                   \u001b[0m\n",
      "\u001b[2;36m                      \u001b[0m         \u001b[95mphin_InSAR\u001b[0m                    \u001b[2m                   \u001b[0m\n",
      "\u001b[2;36m[2023-12-15 21:31:35]\u001b[0m\u001b[2;36m \u001b[0m\u001b[34mINFO    \u001b[0m Creating persistent scatterer \u001b]8;id=119747;file:///home/jovyan/.local/envs/dolphin-env/lib/python3.11/site-packages/dolphin/workflows/wrapped_phase.py\u001b\\\u001b[2mwrapped_phase.py\u001b[0m\u001b]8;;\u001b\\\u001b[2m:\u001b[0m\u001b]8;id=725603;file:///home/jovyan/.local/envs/dolphin-env/lib/python3.11/site-packages/dolphin/workflows/wrapped_phase.py#76\u001b\\\u001b[2m76\u001b[0m\u001b]8;;\u001b\\\n",
      "\u001b[2;36m                      \u001b[0m         file                          \u001b[2m                   \u001b[0m\n",
      "\u001b[2;36m                      \u001b[0m         \u001b[35m/home/jovyan/CSLC_test_dl/dol\u001b[0m \u001b[2m                   \u001b[0m\n",
      "\u001b[2;36m                      \u001b[0m         \u001b[35mphin_InSAR/PS/\u001b[0m\u001b[95mps_pixels.tif\u001b[0m   \u001b[2m                   \u001b[0m\n",
      "\u001b[2K  \u001b[32m370/370\u001b[0m Processing (512, 512) sized blocks... \u001b[90m━━━━━━━━━━━━━━━━━━━\u001b[0m \u001b[35m100%\u001b[0m \u001b[33m0:00:59\u001b[0mm \u001b[33m0:00:59\u001b[0m00:56\u001b[0m\n",
      "\u001b[?25h\u001b[2;36m[2023-12-15 21:32:35]\u001b[0m\u001b[2;36m \u001b[0m\u001b[34mINFO    \u001b[0m Waiting to write \u001b[1;36m0\u001b[0m blocks of data.      \u001b]8;id=144259;file:///home/jovyan/.local/envs/dolphin-env/lib/python3.11/site-packages/dolphin/ps.py\u001b\\\u001b[2mps.py\u001b[0m\u001b]8;;\u001b\\\u001b[2m:\u001b[0m\u001b]8;id=400156;file:///home/jovyan/.local/envs/dolphin-env/lib/python3.11/site-packages/dolphin/ps.py#149\u001b\\\u001b[2m149\u001b[0m\u001b]8;;\u001b\\\n",
      "\u001b[2;36m[2023-12-15 21:32:36]\u001b[0m\u001b[2;36m \u001b[0m\u001b[34mINFO    \u001b[0m Finished writing out PS files           \u001b]8;id=235185;file:///home/jovyan/.local/envs/dolphin-env/lib/python3.11/site-packages/dolphin/ps.py\u001b\\\u001b[2mps.py\u001b[0m\u001b]8;;\u001b\\\u001b[2m:\u001b[0m\u001b]8;id=801489;file:///home/jovyan/.local/envs/dolphin-env/lib/python3.11/site-packages/dolphin/ps.py#151\u001b\\\u001b[2m151\u001b[0m\u001b]8;;\u001b\\\n",
      "\u001b[2;36m                     \u001b[0m\u001b[2;36m \u001b[0m\u001b[34mINFO    \u001b[0m No striding request, skipping           \u001b]8;id=74862;file:///home/jovyan/.local/envs/dolphin-env/lib/python3.11/site-packages/dolphin/ps.py\u001b\\\u001b[2mps.py\u001b[0m\u001b]8;;\u001b\\\u001b[2m:\u001b[0m\u001b]8;id=729466;file:///home/jovyan/.local/envs/dolphin-env/lib/python3.11/site-packages/dolphin/ps.py#277\u001b\\\u001b[2m277\u001b[0m\u001b]8;;\u001b\\\n",
      "\u001b[2;36m                      \u001b[0m         multilook.                              \u001b[2m         \u001b[0m\n",
      "\u001b[2;36m                     \u001b[0m\u001b[2;36m \u001b[0m\u001b[34mINFO    \u001b[0m Running sequential EMI step  \u001b]8;id=26939;file:///home/jovyan/.local/envs/dolphin-env/lib/python3.11/site-packages/dolphin/workflows/wrapped_phase.py\u001b\\\u001b[2mwrapped_phase.py\u001b[0m\u001b]8;;\u001b\\\u001b[2m:\u001b[0m\u001b]8;id=393850;file:///home/jovyan/.local/envs/dolphin-env/lib/python3.11/site-packages/dolphin/workflows/wrapped_phase.py#131\u001b\\\u001b[2m131\u001b[0m\u001b]8;;\u001b\\\n",
      "\u001b[2;36m                      \u001b[0m         in                           \u001b[2m                    \u001b[0m\n",
      "\u001b[2;36m                      \u001b[0m         \u001b[35m/home/jovyan/CSLC_test_dl/do\u001b[0m \u001b[2m                    \u001b[0m\n",
      "\u001b[2;36m                      \u001b[0m         \u001b[35mlphin_InSAR/\u001b[0m\u001b[95mlinked_phase\u001b[0m     \u001b[2m                    \u001b[0m\n",
      "\u001b[2;36m                     \u001b[0m\u001b[2;36m \u001b[0m\u001b[34mINFO    \u001b[0m Full file range for \u001b[1;35mVRTStack\u001b[0m\u001b[1m(\u001b[0m\u001b[1;36m4\u001b[0m   \u001b]8;id=748781;file:///home/jovyan/.local/envs/dolphin-env/lib/python3.11/site-packages/dolphin/workflows/sequential.py\u001b\\\u001b[2msequential.py\u001b[0m\u001b]8;;\u001b\\\u001b[2m:\u001b[0m\u001b]8;id=279151;file:///home/jovyan/.local/envs/dolphin-env/lib/python3.11/site-packages/dolphin/workflows/sequential.py#59\u001b\\\u001b[2m59\u001b[0m\u001b]8;;\u001b\\\n",
      "\u001b[2;36m                      \u001b[0m         bands,                           \u001b[2m                \u001b[0m\n",
      "\u001b[2;36m                      \u001b[0m         \u001b[33moutfile\u001b[0m=\u001b[35m/home/jovyan/CSLC_test_d\u001b[0m \u001b[2m                \u001b[0m\n",
      "\u001b[2;36m                      \u001b[0m         \u001b[35ml/dolphin_InSAR/\u001b[0m\u001b[95mslc_stack.vrt\u001b[0m\u001b[1m)\u001b[0m:  \u001b[2m                \u001b[0m\n",
      "\u001b[2;36m                      \u001b[0m         from                             \u001b[2m                \u001b[0m\n",
      "\u001b[2;36m                      \u001b[0m         \u001b[35m/home/jovyan/CSLC_test_dl/\u001b[0m\u001b[95mOPERA_\u001b[0m \u001b[2m                \u001b[0m\n",
      "\u001b[2;36m                      \u001b[0m         \u001b[95mL2_CSLC-S1_T160-342231-IW3_20231\u001b[0m \u001b[2m                \u001b[0m\n",
      "\u001b[2;36m                      \u001b[0m         \u001b[95m017T161341Z_20231018T164308Z_S1A\u001b[0m \u001b[2m                \u001b[0m\n",
      "\u001b[2;36m                      \u001b[0m         \u001b[95m_VV_v1.0.h5\u001b[0m to                   \u001b[2m                \u001b[0m\n",
      "\u001b[2;36m                      \u001b[0m         \u001b[35m/home/jovyan/CSLC_test_dl/\u001b[0m\u001b[95mOPERA_\u001b[0m \u001b[2m                \u001b[0m\n",
      "\u001b[2;36m                      \u001b[0m         \u001b[95mL2_CSLC-S1_T160-342231-IW3_20231\u001b[0m \u001b[2m                \u001b[0m\n",
      "\u001b[2;36m                      \u001b[0m         \u001b[95m122T161340Z_20231205T234021Z_S1A\u001b[0m \u001b[2m                \u001b[0m\n",
      "\u001b[2;36m                      \u001b[0m         \u001b[95m_VV_v1.0.h5\u001b[0m                      \u001b[2m                \u001b[0m\n",
      "\u001b[2;36m                     \u001b[0m\u001b[2;36m \u001b[0m\u001b[34mINFO    \u001b[0m Output folder:                   \u001b]8;id=535391;file:///home/jovyan/.local/envs/dolphin-env/lib/python3.11/site-packages/dolphin/workflows/sequential.py\u001b\\\u001b[2msequential.py\u001b[0m\u001b]8;;\u001b\\\u001b[2m:\u001b[0m\u001b]8;id=920623;file:///home/jovyan/.local/envs/dolphin-env/lib/python3.11/site-packages/dolphin/workflows/sequential.py#62\u001b\\\u001b[2m62\u001b[0m\u001b]8;;\u001b\\\n",
      "\u001b[2;36m                      \u001b[0m         \u001b[35m/home/jovyan/CSLC_test_dl/dolphi\u001b[0m \u001b[2m                \u001b[0m\n",
      "\u001b[2;36m                      \u001b[0m         \u001b[35mn_InSAR/\u001b[0m\u001b[95mlinked_phase\u001b[0m             \u001b[2m                \u001b[0m\n",
      "\u001b[2;36m                     \u001b[0m\u001b[2;36m \u001b[0m\u001b[34mINFO    \u001b[0m Number of ministacks of size \u001b[1;36m15\u001b[0m: \u001b]8;id=793187;file:///home/jovyan/.local/envs/dolphin-env/lib/python3.11/site-packages/dolphin/workflows/sequential.py\u001b\\\u001b[2msequential.py\u001b[0m\u001b]8;;\u001b\\\u001b[2m:\u001b[0m\u001b]8;id=875000;file:///home/jovyan/.local/envs/dolphin-env/lib/python3.11/site-packages/dolphin/workflows/sequential.py#63\u001b\\\u001b[2m63\u001b[0m\u001b]8;;\u001b\\\n",
      "\u001b[2;36m                      \u001b[0m         \u001b[1;36m1\u001b[0m                                \u001b[2m                \u001b[0m\n",
      "\u001b[2;36m                     \u001b[0m\u001b[2;36m \u001b[0m\u001b[34mINFO    \u001b[0m Processing \u001b[1;36m4\u001b[0m SLCs. Output        \u001b]8;id=938652;file:///home/jovyan/.local/envs/dolphin-env/lib/python3.11/site-packages/dolphin/workflows/sequential.py\u001b\\\u001b[2msequential.py\u001b[0m\u001b]8;;\u001b\\\u001b[2m:\u001b[0m\u001b]8;id=520426;file:///home/jovyan/.local/envs/dolphin-env/lib/python3.11/site-packages/dolphin/workflows/sequential.py#86\u001b\\\u001b[2m86\u001b[0m\u001b]8;;\u001b\\\n",
      "\u001b[2;36m                      \u001b[0m         folder:                          \u001b[2m                \u001b[0m\n",
      "\u001b[2;36m                      \u001b[0m         \u001b[35m/home/jovyan/CSLC_test_dl/dolphi\u001b[0m \u001b[2m                \u001b[0m\n",
      "\u001b[2;36m                      \u001b[0m         \u001b[35mn_InSAR/linked_phase/\u001b[0m\u001b[95m20231017_20\u001b[0m \u001b[2m                \u001b[0m\n",
      "\u001b[2;36m                      \u001b[0m         \u001b[95m231122\u001b[0m                           \u001b[2m                \u001b[0m\n",
      "\u001b[2;36m                     \u001b[0m\u001b[2;36m \u001b[0m\u001b[34mINFO    \u001b[0m \u001b[1;35mVRTStack\u001b[0m\u001b[1m(\u001b[0m\u001b[1;36m4\u001b[0m bands,                    \u001b]8;id=948389;file:///home/jovyan/.local/envs/dolphin-env/lib/python3.11/site-packages/dolphin/workflows/single.py\u001b\\\u001b[2msingle.py\u001b[0m\u001b]8;;\u001b\\\u001b[2m:\u001b[0m\u001b]8;id=596988;file:///home/jovyan/.local/envs/dolphin-env/lib/python3.11/site-packages/dolphin/workflows/single.py#80\u001b\\\u001b[2m80\u001b[0m\u001b]8;;\u001b\\\n",
      "\u001b[2;36m                      \u001b[0m         \u001b[33moutfile\u001b[0m=\u001b[35m/home/jovyan/CSLC_test_dl/do\u001b[0m \u001b[2m            \u001b[0m\n",
      "\u001b[2;36m                      \u001b[0m         \u001b[35mlphin_InSAR/linked_phase/\u001b[0m\u001b[95m20231017_20\u001b[0m \u001b[2m            \u001b[0m\n",
      "\u001b[2;36m                      \u001b[0m         \u001b[95m231122.vrt\u001b[0m\u001b[1m)\u001b[0m: from                    \u001b[2m            \u001b[0m\n",
      "\u001b[2;36m                      \u001b[0m         \u001b[1m[\u001b[0m\u001b[1;35mdatetime.datetime\u001b[0m\u001b[1m(\u001b[0m\u001b[1;36m2023\u001b[0m, \u001b[1;36m10\u001b[0m, \u001b[1;36m17\u001b[0m, \u001b[1;36m0\u001b[0m,  \u001b[2m            \u001b[0m\n",
      "\u001b[2;36m                      \u001b[0m         \u001b[1;36m0\u001b[0m\u001b[1m)\u001b[0m\u001b[1m]\u001b[0m                                  \u001b[2m            \u001b[0m\n",
      "\u001b[2;36m                      \u001b[0m         \u001b[35m/home/jovyan/CSLC_test_dl/\u001b[0m\u001b[95mOPERA_L2_C\u001b[0m \u001b[2m            \u001b[0m\n",
      "\u001b[2;36m                      \u001b[0m         \u001b[95mSLC-S1_T160-342231-IW3_20231122T1613\u001b[0m \u001b[2m            \u001b[0m\n",
      "\u001b[2;36m                      \u001b[0m         \u001b[95m40Z_20231205T234021Z_S1A_VV_v1.0.h5\u001b[0m  \u001b[2m            \u001b[0m\n",
      "\u001b[2;36m[2023-12-15 21:32:44]\u001b[0m\u001b[2;36m \u001b[0m\u001b[34mINFO    \u001b[0m Processing \u001b[1;36m4\u001b[0m SLCs + \u001b[1;36m0\u001b[0m compressed    \u001b]8;id=143676;file:///home/jovyan/.local/envs/dolphin-env/lib/python3.11/site-packages/dolphin/workflows/single.py\u001b\\\u001b[2msingle.py\u001b[0m\u001b]8;;\u001b\\\u001b[2m:\u001b[0m\u001b]8;id=894229;file:///home/jovyan/.local/envs/dolphin-env/lib/python3.11/site-packages/dolphin/workflows/single.py#100\u001b\\\u001b[2m100\u001b[0m\u001b]8;;\u001b\\\n",
      "\u001b[2;36m                      \u001b[0m         SLCs.                               \u001b[2m             \u001b[0m\n",
      "\u001b[2;36m                     \u001b[0m\u001b[2;36m \u001b[0m\u001b[34mINFO    \u001b[0m Total stack size \u001b[1m(\u001b[0min pixels\u001b[1m)\u001b[0m: \u001b[1m(\u001b[0m\u001b[1;36m4\u001b[0m,   \u001b]8;id=302579;file:///home/jovyan/.local/envs/dolphin-env/lib/python3.11/site-packages/dolphin/workflows/single.py\u001b\\\u001b[2msingle.py\u001b[0m\u001b]8;;\u001b\\\u001b[2m:\u001b[0m\u001b]8;id=45350;file:///home/jovyan/.local/envs/dolphin-env/lib/python3.11/site-packages/dolphin/workflows/single.py#105\u001b\\\u001b[2m105\u001b[0m\u001b]8;;\u001b\\\n",
      "\u001b[2;36m                      \u001b[0m         \u001b[1;36m4767\u001b[0m, \u001b[1;36m18594\u001b[0m\u001b[1m)\u001b[0m                        \u001b[2m             \u001b[0m\n",
      "\u001b[2;36m                     \u001b[0m\u001b[2;36m \u001b[0m\u001b[34mINFO    \u001b[0m Iterating over \u001b[1m(\u001b[0m\u001b[1;36m512\u001b[0m, \u001b[1;36m512\u001b[0m\u001b[1m)\u001b[0m blocks,   \u001b]8;id=724341;file:///home/jovyan/.local/envs/dolphin-env/lib/python3.11/site-packages/dolphin/workflows/single.py\u001b\\\u001b[2msingle.py\u001b[0m\u001b]8;;\u001b\\\u001b[2m:\u001b[0m\u001b]8;id=837349;file:///home/jovyan/.local/envs/dolphin-env/lib/python3.11/site-packages/dolphin/workflows/single.py#153\u001b\\\u001b[2m153\u001b[0m\u001b]8;;\u001b\\\n",
      "\u001b[2;36m                      \u001b[0m         \u001b[1;36m370\u001b[0m total                           \u001b[2m             \u001b[0m\n",
      "\u001b[2;36m[2023-12-15 22:07:26]\u001b[0m\u001b[2;36m \u001b[0m\u001b[34mINFO    \u001b[0m Waiting to write \u001b[1;36m0\u001b[0m blocks of data.  \u001b]8;id=757300;file:///home/jovyan/.local/envs/dolphin-env/lib/python3.11/site-packages/dolphin/workflows/single.py\u001b\\\u001b[2msingle.py\u001b[0m\u001b]8;;\u001b\\\u001b[2m:\u001b[0m\u001b]8;id=123190;file:///home/jovyan/.local/envs/dolphin-env/lib/python3.11/site-packages/dolphin/workflows/single.py#264\u001b\\\u001b[2m264\u001b[0m\u001b]8;;\u001b\\\n",
      "\u001b[2;36m                     \u001b[0m\u001b[2;36m \u001b[0m\u001b[34mINFO    \u001b[0m Finished ministack of size \u001b[1m(\u001b[0m\u001b[1;36m4\u001b[0m,      \u001b]8;id=250031;file:///home/jovyan/.local/envs/dolphin-env/lib/python3.11/site-packages/dolphin/workflows/single.py\u001b\\\u001b[2msingle.py\u001b[0m\u001b]8;;\u001b\\\u001b[2m:\u001b[0m\u001b]8;id=471899;file:///home/jovyan/.local/envs/dolphin-env/lib/python3.11/site-packages/dolphin/workflows/single.py#266\u001b\\\u001b[2m266\u001b[0m\u001b]8;;\u001b\\\n",
      "\u001b[2;36m                      \u001b[0m         \u001b[1;36m4767\u001b[0m, \u001b[1;36m18594\u001b[0m\u001b[1m)\u001b[0m.                       \u001b[2m             \u001b[0m\n",
      "\u001b[2;36m                     \u001b[0m\u001b[2;36m \u001b[0m\u001b[34mINFO    \u001b[0m Creating virtual             \u001b]8;id=393477;file:///home/jovyan/.local/envs/dolphin-env/lib/python3.11/site-packages/dolphin/workflows/wrapped_phase.py\u001b\\\u001b[2mwrapped_phase.py\u001b[0m\u001b]8;;\u001b\\\u001b[2m:\u001b[0m\u001b]8;id=214;file:///home/jovyan/.local/envs/dolphin-env/lib/python3.11/site-packages/dolphin/workflows/wrapped_phase.py#171\u001b\\\u001b[2m171\u001b[0m\u001b]8;;\u001b\\\n",
      "\u001b[2;36m                      \u001b[0m         interferograms from \u001b[1;36m4\u001b[0m files  \u001b[2m                    \u001b[0m\n",
      "\u001b[2;36m                     \u001b[0m\u001b[2;36m \u001b[0m\u001b[34mINFO    \u001b[0m Total elapsed time for                \u001b]8;id=951891;file:///home/jovyan/.local/envs/dolphin-env/lib/python3.11/site-packages/dolphin/_log.py\u001b\\\u001b[2m_log.py\u001b[0m\u001b]8;;\u001b\\\u001b[2m:\u001b[0m\u001b]8;id=30410;file:///home/jovyan/.local/envs/dolphin-env/lib/python3.11/site-packages/dolphin/_log.py#118\u001b\\\u001b[2m118\u001b[0m\u001b]8;;\u001b\\\n",
      "\u001b[2;36m                      \u001b[0m         dolphin.workflows.wrapped_phase.run : \u001b[2m           \u001b[0m\n",
      "\u001b[2;36m                      \u001b[0m         \u001b[1;36m35.99\u001b[0m minutes \u001b[1m(\u001b[0m\u001b[1;36m2159.16\u001b[0m seconds\u001b[1m)\u001b[0m       \u001b[2m           \u001b[0m\n",
      "\u001b[2;36m                     \u001b[0m\u001b[2;36m \u001b[0m\u001b[34mINFO    \u001b[0m Stitching interferograms  \u001b]8;id=60678;file:///home/jovyan/.local/envs/dolphin-env/lib/python3.11/site-packages/dolphin/workflows/stitch_and_unwrap.py\u001b\\\u001b[2mstitch_and_unwrap.py\u001b[0m\u001b]8;;\u001b\\\u001b[2m:\u001b[0m\u001b]8;id=344403;file:///home/jovyan/.local/envs/dolphin-env/lib/python3.11/site-packages/dolphin/workflows/stitch_and_unwrap.py#66\u001b\\\u001b[2m66\u001b[0m\u001b]8;;\u001b\\\n",
      "\u001b[2;36m                      \u001b[0m         by date.                  \u001b[2m                       \u001b[0m\n",
      "\u001b[2;36m                     \u001b[0m\u001b[2;36m \u001b[0m\u001b[34mINFO    \u001b[0m \u001b[1m(\u001b[0m\u001b[1;35mdatetime.datetime\u001b[0m\u001b[1m(\u001b[0m\u001b[1;36m2023\u001b[0m, \u001b[1;36m10\u001b[0m, \u001b[1;36m17\u001b[0m,  \u001b]8;id=879439;file:///home/jovyan/.local/envs/dolphin-env/lib/python3.11/site-packages/dolphin/stitching.py\u001b\\\u001b[2mstitching.py\u001b[0m\u001b]8;;\u001b\\\u001b[2m:\u001b[0m\u001b]8;id=726145;file:///home/jovyan/.local/envs/dolphin-env/lib/python3.11/site-packages/dolphin/stitching.py#87\u001b\\\u001b[2m87\u001b[0m\u001b]8;;\u001b\\\n",
      "\u001b[2;36m                      \u001b[0m         \u001b[1;36m0\u001b[0m, \u001b[1;36m0\u001b[0m\u001b[1m)\u001b[0m, \u001b[1;35mdatetime.datetime\u001b[0m\u001b[1m(\u001b[0m\u001b[1;36m2023\u001b[0m,    \u001b[2m               \u001b[0m\n",
      "\u001b[2;36m                      \u001b[0m         \u001b[1;36m10\u001b[0m, \u001b[1;36m29\u001b[0m, \u001b[1;36m0\u001b[0m, \u001b[1;36m0\u001b[0m\u001b[1m)\u001b[0m\u001b[1m)\u001b[0m: Stitching \u001b[1;36m1\u001b[0m       \u001b[2m               \u001b[0m\n",
      "\u001b[2;36m                      \u001b[0m         images.                           \u001b[2m               \u001b[0m\n",
      "\u001b[2;36m                     \u001b[0m\u001b[2;36m \u001b[0m\u001b[34mINFO    \u001b[0m Only one image, no stitching     \u001b]8;id=237421;file:///home/jovyan/.local/envs/dolphin-env/lib/python3.11/site-packages/dolphin/stitching.py\u001b\\\u001b[2mstitching.py\u001b[0m\u001b]8;;\u001b\\\u001b[2m:\u001b[0m\u001b]8;id=655561;file:///home/jovyan/.local/envs/dolphin-env/lib/python3.11/site-packages/dolphin/stitching.py#179\u001b\\\u001b[2m179\u001b[0m\u001b]8;;\u001b\\\n",
      "\u001b[2;36m                      \u001b[0m         needed                           \u001b[2m                \u001b[0m\n",
      "\u001b[2;36m                     \u001b[0m\u001b[2;36m \u001b[0m\u001b[34mINFO    \u001b[0m Copying                          \u001b]8;id=592851;file:///home/jovyan/.local/envs/dolphin-env/lib/python3.11/site-packages/dolphin/stitching.py\u001b\\\u001b[2mstitching.py\u001b[0m\u001b]8;;\u001b\\\u001b[2m:\u001b[0m\u001b]8;id=381134;file:///home/jovyan/.local/envs/dolphin-env/lib/python3.11/site-packages/dolphin/stitching.py#180\u001b\\\u001b[2m180\u001b[0m\u001b]8;;\u001b\\\n",
      "\u001b[2;36m                      \u001b[0m         \u001b[35m/home/jovyan/CSLC_test_dl/dolphi\u001b[0m \u001b[2m                \u001b[0m\n",
      "\u001b[2;36m                      \u001b[0m         \u001b[35mn_InSAR/interferograms/\u001b[0m\u001b[95m20231017_\u001b[0m \u001b[2m                \u001b[0m\n",
      "\u001b[2;36m                      \u001b[0m         \u001b[95m20231029.int.vrt\u001b[0m to              \u001b[2m                \u001b[0m\n",
      "\u001b[2;36m                      \u001b[0m         \u001b[35m/home/jovyan/CSLC_test_dl/dolphi\u001b[0m \u001b[2m                \u001b[0m\n",
      "\u001b[2;36m                      \u001b[0m         \u001b[35mn_InSAR/interferograms/stitched/\u001b[0m \u001b[2m                \u001b[0m\n",
      "\u001b[2;36m                      \u001b[0m         \u001b[95m20231017_20231029.int\u001b[0m and        \u001b[2m                \u001b[0m\n",
      "\u001b[2;36m                      \u001b[0m         zeroing nodata values.           \u001b[2m                \u001b[0m\n",
      "\u001b[2;36m[2023-12-15 22:07:45]\u001b[0m\u001b[2;36m \u001b[0m\u001b[34mINFO    \u001b[0m \u001b[1m(\u001b[0m\u001b[1;35mdatetime.datetime\u001b[0m\u001b[1m(\u001b[0m\u001b[1;36m2023\u001b[0m, \u001b[1;36m10\u001b[0m, \u001b[1;36m17\u001b[0m,  \u001b]8;id=777721;file:///home/jovyan/.local/envs/dolphin-env/lib/python3.11/site-packages/dolphin/stitching.py\u001b\\\u001b[2mstitching.py\u001b[0m\u001b]8;;\u001b\\\u001b[2m:\u001b[0m\u001b]8;id=264943;file:///home/jovyan/.local/envs/dolphin-env/lib/python3.11/site-packages/dolphin/stitching.py#87\u001b\\\u001b[2m87\u001b[0m\u001b]8;;\u001b\\\n",
      "\u001b[2;36m                      \u001b[0m         \u001b[1;36m0\u001b[0m, \u001b[1;36m0\u001b[0m\u001b[1m)\u001b[0m, \u001b[1;35mdatetime.datetime\u001b[0m\u001b[1m(\u001b[0m\u001b[1;36m2023\u001b[0m,    \u001b[2m               \u001b[0m\n",
      "\u001b[2;36m                      \u001b[0m         \u001b[1;36m11\u001b[0m, \u001b[1;36m10\u001b[0m, \u001b[1;36m0\u001b[0m, \u001b[1;36m0\u001b[0m\u001b[1m)\u001b[0m\u001b[1m)\u001b[0m: Stitching \u001b[1;36m1\u001b[0m       \u001b[2m               \u001b[0m\n",
      "\u001b[2;36m                      \u001b[0m         images.                           \u001b[2m               \u001b[0m\n",
      "\u001b[2;36m                     \u001b[0m\u001b[2;36m \u001b[0m\u001b[34mINFO    \u001b[0m Only one image, no stitching     \u001b]8;id=365059;file:///home/jovyan/.local/envs/dolphin-env/lib/python3.11/site-packages/dolphin/stitching.py\u001b\\\u001b[2mstitching.py\u001b[0m\u001b]8;;\u001b\\\u001b[2m:\u001b[0m\u001b]8;id=695812;file:///home/jovyan/.local/envs/dolphin-env/lib/python3.11/site-packages/dolphin/stitching.py#179\u001b\\\u001b[2m179\u001b[0m\u001b]8;;\u001b\\\n",
      "\u001b[2;36m                      \u001b[0m         needed                           \u001b[2m                \u001b[0m\n",
      "\u001b[2;36m                     \u001b[0m\u001b[2;36m \u001b[0m\u001b[34mINFO    \u001b[0m Copying                          \u001b]8;id=998264;file:///home/jovyan/.local/envs/dolphin-env/lib/python3.11/site-packages/dolphin/stitching.py\u001b\\\u001b[2mstitching.py\u001b[0m\u001b]8;;\u001b\\\u001b[2m:\u001b[0m\u001b]8;id=945265;file:///home/jovyan/.local/envs/dolphin-env/lib/python3.11/site-packages/dolphin/stitching.py#180\u001b\\\u001b[2m180\u001b[0m\u001b]8;;\u001b\\\n",
      "\u001b[2;36m                      \u001b[0m         \u001b[35m/home/jovyan/CSLC_test_dl/dolphi\u001b[0m \u001b[2m                \u001b[0m\n",
      "\u001b[2;36m                      \u001b[0m         \u001b[35mn_InSAR/interferograms/\u001b[0m\u001b[95m20231017_\u001b[0m \u001b[2m                \u001b[0m\n",
      "\u001b[2;36m                      \u001b[0m         \u001b[95m20231110.int.vrt\u001b[0m to              \u001b[2m                \u001b[0m\n",
      "\u001b[2;36m                      \u001b[0m         \u001b[35m/home/jovyan/CSLC_test_dl/dolphi\u001b[0m \u001b[2m                \u001b[0m\n",
      "\u001b[2;36m                      \u001b[0m         \u001b[35mn_InSAR/interferograms/stitched/\u001b[0m \u001b[2m                \u001b[0m\n",
      "\u001b[2;36m                      \u001b[0m         \u001b[95m20231017_20231110.int\u001b[0m and        \u001b[2m                \u001b[0m\n",
      "\u001b[2;36m                      \u001b[0m         zeroing nodata values.           \u001b[2m                \u001b[0m\n",
      "\u001b[2;36m[2023-12-15 22:08:03]\u001b[0m\u001b[2;36m \u001b[0m\u001b[34mINFO    \u001b[0m \u001b[1m(\u001b[0m\u001b[1;35mdatetime.datetime\u001b[0m\u001b[1m(\u001b[0m\u001b[1;36m2023\u001b[0m, \u001b[1;36m10\u001b[0m, \u001b[1;36m17\u001b[0m,  \u001b]8;id=601633;file:///home/jovyan/.local/envs/dolphin-env/lib/python3.11/site-packages/dolphin/stitching.py\u001b\\\u001b[2mstitching.py\u001b[0m\u001b]8;;\u001b\\\u001b[2m:\u001b[0m\u001b]8;id=476244;file:///home/jovyan/.local/envs/dolphin-env/lib/python3.11/site-packages/dolphin/stitching.py#87\u001b\\\u001b[2m87\u001b[0m\u001b]8;;\u001b\\\n",
      "\u001b[2;36m                      \u001b[0m         \u001b[1;36m0\u001b[0m, \u001b[1;36m0\u001b[0m\u001b[1m)\u001b[0m, \u001b[1;35mdatetime.datetime\u001b[0m\u001b[1m(\u001b[0m\u001b[1;36m2023\u001b[0m,    \u001b[2m               \u001b[0m\n",
      "\u001b[2;36m                      \u001b[0m         \u001b[1;36m11\u001b[0m, \u001b[1;36m22\u001b[0m, \u001b[1;36m0\u001b[0m, \u001b[1;36m0\u001b[0m\u001b[1m)\u001b[0m\u001b[1m)\u001b[0m: Stitching \u001b[1;36m1\u001b[0m       \u001b[2m               \u001b[0m\n",
      "\u001b[2;36m                      \u001b[0m         images.                           \u001b[2m               \u001b[0m\n",
      "\u001b[2;36m                     \u001b[0m\u001b[2;36m \u001b[0m\u001b[34mINFO    \u001b[0m Only one image, no stitching     \u001b]8;id=150758;file:///home/jovyan/.local/envs/dolphin-env/lib/python3.11/site-packages/dolphin/stitching.py\u001b\\\u001b[2mstitching.py\u001b[0m\u001b]8;;\u001b\\\u001b[2m:\u001b[0m\u001b]8;id=236246;file:///home/jovyan/.local/envs/dolphin-env/lib/python3.11/site-packages/dolphin/stitching.py#179\u001b\\\u001b[2m179\u001b[0m\u001b]8;;\u001b\\\n",
      "\u001b[2;36m                      \u001b[0m         needed                           \u001b[2m                \u001b[0m\n",
      "\u001b[2;36m                     \u001b[0m\u001b[2;36m \u001b[0m\u001b[34mINFO    \u001b[0m Copying                          \u001b]8;id=753161;file:///home/jovyan/.local/envs/dolphin-env/lib/python3.11/site-packages/dolphin/stitching.py\u001b\\\u001b[2mstitching.py\u001b[0m\u001b]8;;\u001b\\\u001b[2m:\u001b[0m\u001b]8;id=188198;file:///home/jovyan/.local/envs/dolphin-env/lib/python3.11/site-packages/dolphin/stitching.py#180\u001b\\\u001b[2m180\u001b[0m\u001b]8;;\u001b\\\n",
      "\u001b[2;36m                      \u001b[0m         \u001b[35m/home/jovyan/CSLC_test_dl/dolphi\u001b[0m \u001b[2m                \u001b[0m\n",
      "\u001b[2;36m                      \u001b[0m         \u001b[35mn_InSAR/interferograms/\u001b[0m\u001b[95m20231017_\u001b[0m \u001b[2m                \u001b[0m\n",
      "\u001b[2;36m                      \u001b[0m         \u001b[95m20231122.int.vrt\u001b[0m to              \u001b[2m                \u001b[0m\n",
      "\u001b[2;36m                      \u001b[0m         \u001b[35m/home/jovyan/CSLC_test_dl/dolphi\u001b[0m \u001b[2m                \u001b[0m\n",
      "\u001b[2;36m                      \u001b[0m         \u001b[35mn_InSAR/interferograms/stitched/\u001b[0m \u001b[2m                \u001b[0m\n",
      "\u001b[2;36m                      \u001b[0m         \u001b[95m20231017_20231122.int\u001b[0m and        \u001b[2m                \u001b[0m\n",
      "\u001b[2;36m                      \u001b[0m         zeroing nodata values.           \u001b[2m                \u001b[0m\n",
      "\u001b[2;36m[2023-12-15 22:08:23]\u001b[0m\u001b[2;36m \u001b[0m\u001b[34mINFO    \u001b[0m Estimating               \u001b]8;id=352122;file:///home/jovyan/.local/envs/dolphin-env/lib/python3.11/site-packages/dolphin/workflows/stitch_and_unwrap.py\u001b\\\u001b[2mstitch_and_unwrap.py\u001b[0m\u001b]8;;\u001b\\\u001b[2m:\u001b[0m\u001b]8;id=445539;file:///home/jovyan/.local/envs/dolphin-env/lib/python3.11/site-packages/dolphin/workflows/stitch_and_unwrap.py#178\u001b\\\u001b[2m178\u001b[0m\u001b]8;;\u001b\\\n",
      "\u001b[2;36m                      \u001b[0m         interferometric          \u001b[2m                        \u001b[0m\n",
      "\u001b[2;36m                      \u001b[0m         correlation for          \u001b[2m                        \u001b[0m\n",
      "\u001b[2;36m                      \u001b[0m         \u001b[1m(\u001b[0m\u001b[1;35mdatetime.datetime\u001b[0m\u001b[1m(\u001b[0m\u001b[1;36m2023\u001b[0m, \u001b[2m                        \u001b[0m\n",
      "\u001b[2;36m                      \u001b[0m         \u001b[1;36m10\u001b[0m, \u001b[1;36m17\u001b[0m, \u001b[1;36m0\u001b[0m, \u001b[1;36m0\u001b[0m\u001b[1m)\u001b[0m,           \u001b[2m                        \u001b[0m\n",
      "\u001b[2;36m                      \u001b[0m         \u001b[1;35mdatetime.datetime\u001b[0m\u001b[1m(\u001b[0m\u001b[1;36m2023\u001b[0m,  \u001b[2m                        \u001b[0m\n",
      "\u001b[2;36m                      \u001b[0m         \u001b[1;36m10\u001b[0m, \u001b[1;36m29\u001b[0m, \u001b[1;36m0\u001b[0m, \u001b[1;36m0\u001b[0m\u001b[1m)\u001b[0m\u001b[1m)\u001b[0m\u001b[33m...\u001b[0m        \u001b[2m                        \u001b[0m\n",
      "\u001b[2;36m[2023-12-15 22:08:33]\u001b[0m\u001b[2;36m \u001b[0m\u001b[34mINFO    \u001b[0m Writing interferometric  \u001b]8;id=119579;file:///home/jovyan/.local/envs/dolphin-env/lib/python3.11/site-packages/dolphin/workflows/stitch_and_unwrap.py\u001b\\\u001b[2mstitch_and_unwrap.py\u001b[0m\u001b]8;;\u001b\\\u001b[2m:\u001b[0m\u001b]8;id=327608;file:///home/jovyan/.local/envs/dolphin-env/lib/python3.11/site-packages/dolphin/workflows/stitch_and_unwrap.py#180\u001b\\\u001b[2m180\u001b[0m\u001b]8;;\u001b\\\n",
      "\u001b[2;36m                      \u001b[0m         correlation to           \u001b[2m                        \u001b[0m\n",
      "\u001b[2;36m                      \u001b[0m         \u001b[35m/home/jovyan/CSLC_test_d\u001b[0m \u001b[2m                        \u001b[0m\n",
      "\u001b[2;36m                      \u001b[0m         \u001b[35ml/dolphin_InSAR/interfer\u001b[0m \u001b[2m                        \u001b[0m\n",
      "\u001b[2;36m                      \u001b[0m         \u001b[35mograms/stitched/\u001b[0m\u001b[95m20231017\u001b[0m \u001b[2m                        \u001b[0m\n",
      "\u001b[2;36m                      \u001b[0m         \u001b[95m_20231029.cor\u001b[0m            \u001b[2m                        \u001b[0m\n",
      "\u001b[2;36m[2023-12-15 22:08:34]\u001b[0m\u001b[2;36m \u001b[0m\u001b[34mINFO    \u001b[0m Estimating               \u001b]8;id=532100;file:///home/jovyan/.local/envs/dolphin-env/lib/python3.11/site-packages/dolphin/workflows/stitch_and_unwrap.py\u001b\\\u001b[2mstitch_and_unwrap.py\u001b[0m\u001b]8;;\u001b\\\u001b[2m:\u001b[0m\u001b]8;id=538146;file:///home/jovyan/.local/envs/dolphin-env/lib/python3.11/site-packages/dolphin/workflows/stitch_and_unwrap.py#178\u001b\\\u001b[2m178\u001b[0m\u001b]8;;\u001b\\\n",
      "\u001b[2;36m                      \u001b[0m         interferometric          \u001b[2m                        \u001b[0m\n",
      "\u001b[2;36m                      \u001b[0m         correlation for          \u001b[2m                        \u001b[0m\n",
      "\u001b[2;36m                      \u001b[0m         \u001b[1m(\u001b[0m\u001b[1;35mdatetime.datetime\u001b[0m\u001b[1m(\u001b[0m\u001b[1;36m2023\u001b[0m, \u001b[2m                        \u001b[0m\n",
      "\u001b[2;36m                      \u001b[0m         \u001b[1;36m10\u001b[0m, \u001b[1;36m17\u001b[0m, \u001b[1;36m0\u001b[0m, \u001b[1;36m0\u001b[0m\u001b[1m)\u001b[0m,           \u001b[2m                        \u001b[0m\n",
      "\u001b[2;36m                      \u001b[0m         \u001b[1;35mdatetime.datetime\u001b[0m\u001b[1m(\u001b[0m\u001b[1;36m2023\u001b[0m,  \u001b[2m                        \u001b[0m\n",
      "\u001b[2;36m                      \u001b[0m         \u001b[1;36m11\u001b[0m, \u001b[1;36m10\u001b[0m, \u001b[1;36m0\u001b[0m, \u001b[1;36m0\u001b[0m\u001b[1m)\u001b[0m\u001b[1m)\u001b[0m\u001b[33m...\u001b[0m        \u001b[2m                        \u001b[0m\n",
      "\u001b[2;36m[2023-12-15 22:08:44]\u001b[0m\u001b[2;36m \u001b[0m\u001b[34mINFO    \u001b[0m Writing interferometric  \u001b]8;id=702364;file:///home/jovyan/.local/envs/dolphin-env/lib/python3.11/site-packages/dolphin/workflows/stitch_and_unwrap.py\u001b\\\u001b[2mstitch_and_unwrap.py\u001b[0m\u001b]8;;\u001b\\\u001b[2m:\u001b[0m\u001b]8;id=180370;file:///home/jovyan/.local/envs/dolphin-env/lib/python3.11/site-packages/dolphin/workflows/stitch_and_unwrap.py#180\u001b\\\u001b[2m180\u001b[0m\u001b]8;;\u001b\\\n",
      "\u001b[2;36m                      \u001b[0m         correlation to           \u001b[2m                        \u001b[0m\n",
      "\u001b[2;36m                      \u001b[0m         \u001b[35m/home/jovyan/CSLC_test_d\u001b[0m \u001b[2m                        \u001b[0m\n",
      "\u001b[2;36m                      \u001b[0m         \u001b[35ml/dolphin_InSAR/interfer\u001b[0m \u001b[2m                        \u001b[0m\n",
      "\u001b[2;36m                      \u001b[0m         \u001b[35mograms/stitched/\u001b[0m\u001b[95m20231017\u001b[0m \u001b[2m                        \u001b[0m\n",
      "\u001b[2;36m                      \u001b[0m         \u001b[95m_20231110.cor\u001b[0m            \u001b[2m                        \u001b[0m\n",
      "\u001b[2;36m[2023-12-15 22:08:45]\u001b[0m\u001b[2;36m \u001b[0m\u001b[34mINFO    \u001b[0m Estimating               \u001b]8;id=624555;file:///home/jovyan/.local/envs/dolphin-env/lib/python3.11/site-packages/dolphin/workflows/stitch_and_unwrap.py\u001b\\\u001b[2mstitch_and_unwrap.py\u001b[0m\u001b]8;;\u001b\\\u001b[2m:\u001b[0m\u001b]8;id=357261;file:///home/jovyan/.local/envs/dolphin-env/lib/python3.11/site-packages/dolphin/workflows/stitch_and_unwrap.py#178\u001b\\\u001b[2m178\u001b[0m\u001b]8;;\u001b\\\n",
      "\u001b[2;36m                      \u001b[0m         interferometric          \u001b[2m                        \u001b[0m\n",
      "\u001b[2;36m                      \u001b[0m         correlation for          \u001b[2m                        \u001b[0m\n",
      "\u001b[2;36m                      \u001b[0m         \u001b[1m(\u001b[0m\u001b[1;35mdatetime.datetime\u001b[0m\u001b[1m(\u001b[0m\u001b[1;36m2023\u001b[0m, \u001b[2m                        \u001b[0m\n",
      "\u001b[2;36m                      \u001b[0m         \u001b[1;36m10\u001b[0m, \u001b[1;36m17\u001b[0m, \u001b[1;36m0\u001b[0m, \u001b[1;36m0\u001b[0m\u001b[1m)\u001b[0m,           \u001b[2m                        \u001b[0m\n",
      "\u001b[2;36m                      \u001b[0m         \u001b[1;35mdatetime.datetime\u001b[0m\u001b[1m(\u001b[0m\u001b[1;36m2023\u001b[0m,  \u001b[2m                        \u001b[0m\n",
      "\u001b[2;36m                      \u001b[0m         \u001b[1;36m11\u001b[0m, \u001b[1;36m22\u001b[0m, \u001b[1;36m0\u001b[0m, \u001b[1;36m0\u001b[0m\u001b[1m)\u001b[0m\u001b[1m)\u001b[0m\u001b[33m...\u001b[0m        \u001b[2m                        \u001b[0m\n",
      "\u001b[2;36m[2023-12-15 22:08:54]\u001b[0m\u001b[2;36m \u001b[0m\u001b[34mINFO    \u001b[0m Writing interferometric  \u001b]8;id=535281;file:///home/jovyan/.local/envs/dolphin-env/lib/python3.11/site-packages/dolphin/workflows/stitch_and_unwrap.py\u001b\\\u001b[2mstitch_and_unwrap.py\u001b[0m\u001b]8;;\u001b\\\u001b[2m:\u001b[0m\u001b]8;id=86635;file:///home/jovyan/.local/envs/dolphin-env/lib/python3.11/site-packages/dolphin/workflows/stitch_and_unwrap.py#180\u001b\\\u001b[2m180\u001b[0m\u001b]8;;\u001b\\\n",
      "\u001b[2;36m                      \u001b[0m         correlation to           \u001b[2m                        \u001b[0m\n",
      "\u001b[2;36m                      \u001b[0m         \u001b[35m/home/jovyan/CSLC_test_d\u001b[0m \u001b[2m                        \u001b[0m\n",
      "\u001b[2;36m                      \u001b[0m         \u001b[35ml/dolphin_InSAR/interfer\u001b[0m \u001b[2m                        \u001b[0m\n",
      "\u001b[2;36m                      \u001b[0m         \u001b[35mograms/stitched/\u001b[0m\u001b[95m20231017\u001b[0m \u001b[2m                        \u001b[0m\n",
      "\u001b[2;36m                      \u001b[0m         \u001b[95m_20231122.cor\u001b[0m            \u001b[2m                        \u001b[0m\n",
      "\u001b[2;36m                     \u001b[0m\u001b[2;36m \u001b[0m\u001b[34mINFO    \u001b[0m Only one image, no stitching     \u001b]8;id=702365;file:///home/jovyan/.local/envs/dolphin-env/lib/python3.11/site-packages/dolphin/stitching.py\u001b\\\u001b[2mstitching.py\u001b[0m\u001b]8;;\u001b\\\u001b[2m:\u001b[0m\u001b]8;id=945752;file:///home/jovyan/.local/envs/dolphin-env/lib/python3.11/site-packages/dolphin/stitching.py#179\u001b\\\u001b[2m179\u001b[0m\u001b]8;;\u001b\\\n",
      "\u001b[2;36m                      \u001b[0m         needed                           \u001b[2m                \u001b[0m\n",
      "\u001b[2;36m                     \u001b[0m\u001b[2;36m \u001b[0m\u001b[34mINFO    \u001b[0m Copying                          \u001b]8;id=376593;file:///home/jovyan/.local/envs/dolphin-env/lib/python3.11/site-packages/dolphin/stitching.py\u001b\\\u001b[2mstitching.py\u001b[0m\u001b]8;;\u001b\\\u001b[2m:\u001b[0m\u001b]8;id=593953;file:///home/jovyan/.local/envs/dolphin-env/lib/python3.11/site-packages/dolphin/stitching.py#180\u001b\\\u001b[2m180\u001b[0m\u001b]8;;\u001b\\\n",
      "\u001b[2;36m                      \u001b[0m         \u001b[35m/home/jovyan/CSLC_test_dl/dolphi\u001b[0m \u001b[2m                \u001b[0m\n",
      "\u001b[2;36m                      \u001b[0m         \u001b[35mn_InSAR/linked_phase/\u001b[0m\u001b[95mtcorr_avera\u001b[0m \u001b[2m                \u001b[0m\n",
      "\u001b[2;36m                      \u001b[0m         \u001b[95mge.tif\u001b[0m to                        \u001b[2m                \u001b[0m\n",
      "\u001b[2;36m                      \u001b[0m         \u001b[35m/home/jovyan/CSLC_test_dl/dolphi\u001b[0m \u001b[2m                \u001b[0m\n",
      "\u001b[2;36m                      \u001b[0m         \u001b[35mn_InSAR/interferograms/stitched/\u001b[0m \u001b[2m                \u001b[0m\n",
      "\u001b[2;36m                      \u001b[0m         \u001b[95mtcorr.tif\u001b[0m and zeroing nodata     \u001b[2m                \u001b[0m\n",
      "\u001b[2;36m                      \u001b[0m         values.                          \u001b[2m                \u001b[0m\n",
      "Warning 6: driver GTiff does not support creation option SUFFIX\n",
      "\u001b[2;36m[2023-12-15 22:08:56]\u001b[0m\u001b[2;36m \u001b[0m\u001b[34mINFO    \u001b[0m Only one image, no stitching     \u001b]8;id=450325;file:///home/jovyan/.local/envs/dolphin-env/lib/python3.11/site-packages/dolphin/stitching.py\u001b\\\u001b[2mstitching.py\u001b[0m\u001b]8;;\u001b\\\u001b[2m:\u001b[0m\u001b]8;id=343402;file:///home/jovyan/.local/envs/dolphin-env/lib/python3.11/site-packages/dolphin/stitching.py#179\u001b\\\u001b[2m179\u001b[0m\u001b]8;;\u001b\\\n",
      "\u001b[2;36m                      \u001b[0m         needed                           \u001b[2m                \u001b[0m\n",
      "\u001b[2;36m                     \u001b[0m\u001b[2;36m \u001b[0m\u001b[34mINFO    \u001b[0m Copying                          \u001b]8;id=864;file:///home/jovyan/.local/envs/dolphin-env/lib/python3.11/site-packages/dolphin/stitching.py\u001b\\\u001b[2mstitching.py\u001b[0m\u001b]8;;\u001b\\\u001b[2m:\u001b[0m\u001b]8;id=95778;file:///home/jovyan/.local/envs/dolphin-env/lib/python3.11/site-packages/dolphin/stitching.py#180\u001b\\\u001b[2m180\u001b[0m\u001b]8;;\u001b\\\n",
      "\u001b[2;36m                      \u001b[0m         \u001b[35m/home/jovyan/CSLC_test_dl/dolphi\u001b[0m \u001b[2m                \u001b[0m\n",
      "\u001b[2;36m                      \u001b[0m         \u001b[35mn_InSAR/PS/\u001b[0m\u001b[95mps_pixels.tif\u001b[0m to      \u001b[2m                \u001b[0m\n",
      "\u001b[2;36m                      \u001b[0m         \u001b[35m/home/jovyan/CSLC_test_dl/dolphi\u001b[0m \u001b[2m                \u001b[0m\n",
      "\u001b[2;36m                      \u001b[0m         \u001b[35mn_InSAR/interferograms/stitched/\u001b[0m \u001b[2m                \u001b[0m\n",
      "\u001b[2;36m                      \u001b[0m         \u001b[95mps_mask_looked.tif\u001b[0m and zeroing   \u001b[2m                \u001b[0m\n",
      "\u001b[2;36m                      \u001b[0m         nodata values.                   \u001b[2m                \u001b[0m\n",
      "Warning 6: driver GTiff does not support creation option SUFFIX\n",
      "\u001b[2;36m[2023-12-15 22:08:57]\u001b[0m\u001b[2;36m \u001b[0m\u001b[34mINFO    \u001b[0m Unwrapping               \u001b]8;id=944139;file:///home/jovyan/.local/envs/dolphin-env/lib/python3.11/site-packages/dolphin/workflows/stitch_and_unwrap.py\u001b\\\u001b[2mstitch_and_unwrap.py\u001b[0m\u001b]8;;\u001b\\\u001b[2m:\u001b[0m\u001b]8;id=840525;file:///home/jovyan/.local/envs/dolphin-env/lib/python3.11/site-packages/dolphin/workflows/stitch_and_unwrap.py#129\u001b\\\u001b[2m129\u001b[0m\u001b]8;;\u001b\\\n",
      "\u001b[2;36m                      \u001b[0m         interferograms in        \u001b[2m                        \u001b[0m\n",
      "\u001b[2;36m                      \u001b[0m         \u001b[35m/home/jovyan/CSLC_test_d\u001b[0m \u001b[2m                        \u001b[0m\n",
      "\u001b[2;36m                      \u001b[0m         \u001b[35ml/dolphin_InSAR/interfer\u001b[0m \u001b[2m                        \u001b[0m\n",
      "\u001b[2;36m                      \u001b[0m         \u001b[35mograms/\u001b[0m\u001b[95mstitched\u001b[0m          \u001b[2m                        \u001b[0m\n",
      "\u001b[2;36m                     \u001b[0m\u001b[2;36m \u001b[0m\u001b[34mINFO    \u001b[0m \u001b[1;36m3\u001b[0m left to unwrap                    \u001b]8;id=738459;file:///home/jovyan/.local/envs/dolphin-env/lib/python3.11/site-packages/dolphin/unwrap.py\u001b\\\u001b[2munwrap.py\u001b[0m\u001b]8;;\u001b\\\u001b[2m:\u001b[0m\u001b]8;id=791145;file:///home/jovyan/.local/envs/dolphin-env/lib/python3.11/site-packages/dolphin/unwrap.py#115\u001b\\\u001b[2m115\u001b[0m\u001b]8;;\u001b\\\n",
      "\u001b[2;36m                     \u001b[0m\u001b[2;36m \u001b[0m\u001b[34mINFO    \u001b[0m Logging unwrapping output to        \u001b]8;id=867376;file:///home/jovyan/.local/envs/dolphin-env/lib/python3.11/site-packages/dolphin/unwrap.py\u001b\\\u001b[2munwrap.py\u001b[0m\u001b]8;;\u001b\\\u001b[2m:\u001b[0m\u001b]8;id=625151;file:///home/jovyan/.local/envs/dolphin-env/lib/python3.11/site-packages/dolphin/unwrap.py#406\u001b\\\u001b[2m406\u001b[0m\u001b]8;;\u001b\\\n",
      "\u001b[2;36m                      \u001b[0m         \u001b[35m/home/jovyan/CSLC_test_dl/dolphin_I\u001b[0m \u001b[2m             \u001b[0m\n",
      "\u001b[2;36m                      \u001b[0m         \u001b[35mnSAR/unwrapped/\u001b[0m\u001b[95m20231017_20231029.un\u001b[0m \u001b[2m             \u001b[0m\n",
      "\u001b[2;36m                      \u001b[0m         \u001b[95mw.log\u001b[0m                               \u001b[2m             \u001b[0m\n",
      "\u001b[2;36m                     \u001b[0m\u001b[2;36m \u001b[0m\u001b[34mINFO    \u001b[0m Unwrapping size \u001b[1m(\u001b[0m\u001b[1;36m4767\u001b[0m, \u001b[1;36m18594\u001b[0m\u001b[1m)\u001b[0m       \u001b]8;id=586506;file:///home/jovyan/.local/envs/dolphin-env/lib/python3.11/site-packages/dolphin/unwrap.py\u001b\\\u001b[2munwrap.py\u001b[0m\u001b]8;;\u001b\\\u001b[2m:\u001b[0m\u001b]8;id=765816;file:///home/jovyan/.local/envs/dolphin-env/lib/python3.11/site-packages/dolphin/unwrap.py#316\u001b\\\u001b[2m316\u001b[0m\u001b]8;;\u001b\\\n",
      "\u001b[2;36m                      \u001b[0m         \u001b[35m/home/jovyan/CSLC_test_dl/dolphin_I\u001b[0m \u001b[2m             \u001b[0m\n",
      "\u001b[2;36m                      \u001b[0m         \u001b[35mnSAR/interferograms/stitched/\u001b[0m\u001b[95m202310\u001b[0m \u001b[2m             \u001b[0m\n",
      "\u001b[2;36m                      \u001b[0m         \u001b[95m17_20231029.int\u001b[0m to                  \u001b[2m             \u001b[0m\n",
      "\u001b[2;36m                      \u001b[0m         \u001b[35m/home/jovyan/CSLC_test_dl/dolphin_I\u001b[0m \u001b[2m             \u001b[0m\n",
      "\u001b[2;36m                      \u001b[0m         \u001b[35mnSAR/unwrapped/\u001b[0m\u001b[95m20231017_20231029.un\u001b[0m \u001b[2m             \u001b[0m\n",
      "\u001b[2;36m                      \u001b[0m         \u001b[95mw.tif\u001b[0m using SNAPHU                  \u001b[2m             \u001b[0m\n"
     ]
    }
   ],
   "source": [
    "with work_dir(insar_dir):\n",
    "    !dolphin run dolphin_config.yaml"
   ]
  },
  {
   "cell_type": "code",
   "execution_count": null,
   "id": "6f1a52b6-c334-411c-b4cb-543df976b86e",
   "metadata": {},
   "outputs": [],
   "source": []
  }
 ],
 "metadata": {
  "kernelspec": {
   "display_name": "dolphin-env [conda env:.local-dolphin-env]",
   "language": "python",
   "name": "conda-env-.local-dolphin-env-py"
  },
  "language_info": {
   "codemirror_mode": {
    "name": "ipython",
    "version": 3
   },
   "file_extension": ".py",
   "mimetype": "text/x-python",
   "name": "python",
   "nbconvert_exporter": "python",
   "pygments_lexer": "ipython3",
   "version": "3.11.7"
  }
 },
 "nbformat": 4,
 "nbformat_minor": 5
}
