{
 "cells": [
  {
   "cell_type": "markdown",
   "id": "f4a36497-b082-42b0-9a2c-8c2d608f0927",
   "metadata": {},
   "source": [
    "# Create Dolphin InSAR Processing Environment\n",
    "\n",
    "## 0. Import needed Python packages and write the work_dir context manager"
   ]
  },
  {
   "cell_type": "code",
   "execution_count": 1,
   "id": "619f4ba3-b03c-4b95-bc22-6c1aed150009",
   "metadata": {},
   "outputs": [],
   "source": [
    "import contextlib\n",
    "import os\n",
    "from pathlib import Path\n",
    "from typing import Union\n",
    "import yaml"
   ]
  },
  {
   "cell_type": "code",
   "execution_count": 2,
   "id": "65ba7bc2-b0e2-4eed-8eb8-e3555c957988",
   "metadata": {},
   "outputs": [],
   "source": [
    "@contextlib.contextmanager\n",
    "def work_dir(work_pth: Union[Path, str]):\n",
    "    \"\"\"\n",
    "    Temporarily change directories, within the scope of a with statement.\n",
    "    Useful when invoking scripts that only input files from the current working directory.\n",
    "\n",
    "    Usage:\n",
    "    with work_dir(work_pth):\n",
    "        do_things()\n",
    "    \"\"\"\n",
    "    cwd = Path.cwd()\n",
    "    os.chdir(work_pth)\n",
    "    try:\n",
    "        yield\n",
    "    finally:\n",
    "        os.chdir(cwd)"
   ]
  },
  {
   "cell_type": "markdown",
   "id": "e6b4a183-d90a-4854-beaa-84487a511876",
   "metadata": {},
   "source": [
    "## 1. Clone the dolphin repository"
   ]
  },
  {
   "cell_type": "code",
   "execution_count": 3,
   "id": "b997c42c-f6ff-47f1-9d61-ee4bc6c00345",
   "metadata": {},
   "outputs": [
    {
     "name": "stdout",
     "output_type": "stream",
     "text": [
      "Cloning into 'dolphin'...\n",
      "remote: Enumerating objects: 4319, done.\u001b[K\n",
      "remote: Counting objects: 100% (1244/1244), done.\u001b[K\n",
      "remote: Compressing objects: 100% (489/489), done.\u001b[K\n",
      "remote: Total 4319 (delta 872), reused 967 (delta 697), pack-reused 3075\u001b[K\n",
      "Receiving objects: 100% (4319/4319), 2.21 MiB | 12.15 MiB/s, done.\n",
      "Resolving deltas: 100% (2753/2753), done.\n",
      "Note: switching to '3601816c39e81c1420eaf35fa36a6cada6b19237'.\n",
      "\n",
      "You are in 'detached HEAD' state. You can look around, make experimental\n",
      "changes and commit them, and you can discard any commits you make in this\n",
      "state without impacting any branches by switching back to a branch.\n",
      "\n",
      "If you want to create a new branch to retain commits you create, you may\n",
      "do so (now or later) by using -c with the switch command. Example:\n",
      "\n",
      "  git switch -c <new-branch-name>\n",
      "\n",
      "Or undo this operation with:\n",
      "\n",
      "  git switch -\n",
      "\n",
      "Turn off this advice by setting config variable advice.detachedHead to false\n",
      "\n"
     ]
    }
   ],
   "source": [
    "dolphin_dir = Path.home()/\"dolphin\"\n",
    "if not dolphin_dir.is_dir():\n",
    "    with work_dir(dolphin_dir.parent):\n",
    "        !git clone https://github.com/isce-framework/dolphin.git --branch v0.7.0"
   ]
  },
  {
   "cell_type": "markdown",
   "id": "7290f796-4833-4f9d-9241-1e1f700c9787",
   "metadata": {},
   "source": [
    "## 2. Update the dolphin conda-env.yml\n",
    "\n",
    "- remove gdal (installed in base by other means)\n",
    "- add ipython=8.16 (needed when running Jupyter Lab ~3.0)\n",
    "- add jupyterlab=4.0.9 (needed to populate config used to update environment display name)\n",
    "- add kernda=0.3.0 (needed to update the environment display name)\n",
    "- add asf_search=6.7.2 (needed to search and download OPERA CSLC-S1 products)\n",
    "- add ipyfilechooser=0.6.0 (provides a useful GUI file chooser)"
   ]
  },
  {
   "cell_type": "code",
   "execution_count": 16,
   "id": "0f6d7b9f-30f1-4151-b845-ddcc4259f3cb",
   "metadata": {},
   "outputs": [],
   "source": [
    "conda_yaml_pth = list(dolphin_dir.glob(\"conda-env.yml\"))[0]\n",
    "with open(conda_yaml_pth, 'r') as f:\n",
    "    try:\n",
    "        env = yaml.safe_load(f)\n",
    "    except yaml.YAMLError:\n",
    "        raise"
   ]
  },
  {
   "cell_type": "code",
   "execution_count": 17,
   "id": "28c9e13e-7363-4445-9e5e-42a057e6d732",
   "metadata": {},
   "outputs": [],
   "source": [
    "for dep in env['dependencies']:\n",
    "    if 'gdal' in dep:\n",
    "        env['dependencies'].remove(dep)\n",
    "for pkg in [\n",
    "    'ipython=8.16', \n",
    "    'ipywidgets<8.0.0',\n",
    "    'jupyterlab=4.0.9', \n",
    "    'kernda=0.3.0', \n",
    "    'asf_search=6.7.2', \n",
    "    'ipyfilechooser=0.6.0'\n",
    "]:\n",
    "    if pkg not in env['dependencies']:\n",
    "        env['dependencies'].append(pkg)"
   ]
  },
  {
   "cell_type": "code",
   "execution_count": 18,
   "id": "6ba077de-7746-443f-b161-41cb0af47ebd",
   "metadata": {},
   "outputs": [],
   "source": [
    "with open(conda_yaml_pth, 'w') as f:\n",
    "    yaml.dump(env, f)"
   ]
  },
  {
   "cell_type": "markdown",
   "id": "55a16e9c-87f3-4bf5-9a0d-a7cc02335f98",
   "metadata": {},
   "source": [
    "## 3. Create the `dolphin-env` conda environment and set its display name\n",
    "\n",
    "If we don't set the display name to the environment name, it will appear in Jupyter as `Python 3`"
   ]
  },
  {
   "cell_type": "code",
   "execution_count": 19,
   "id": "19a80722-1733-4b43-85d8-9f9c2e5d34a9",
   "metadata": {},
   "outputs": [
    {
     "name": "stdout",
     "output_type": "stream",
     "text": [
      "Preparing transaction: ...working... done\n",
      "Verifying transaction: ...working... done\n",
      "Executing transaction: ...working... done\n",
      "Preparing transaction: ...working... done\n",
      "Verifying transaction: ...working... done\n",
      "Executing transaction: ...working... done\n",
      "{\n",
      "  \"argv\": [\n",
      "    \"bash\",\n",
      "    \"-c\",\n",
      "    \"source \\\"/opt/conda/bin/activate\\\" \\\"/home/jovyan/.local/envs/dolphin-env\\\" && exec /home/jovyan/.local/envs/dolphin-env/bin/python -m ipykernel_launcher -f '{connection_file}' \"\n",
      "  ],\n",
      "  \"display_name\": \"dolphin-env\",\n",
      "  \"language\": \"python\",\n",
      "  \"metadata\": {\n",
      "    \"debugger\": true\n",
      "  }\n",
      "}\n",
      "\n",
      "Wrote to /home/jovyan/.local/envs/dolphin-env/share/jupyter/kernels/python3/kernel.json\n",
      "\n"
     ]
    }
   ],
   "source": [
    "# Creates the environment\n",
    "prefix = Path.home()/f\".local/envs/{env['name']}\"\n",
    "!mamba env create -f {conda_yaml_pth} --prefix {prefix} -q --force\n",
    "\n",
    "# Without running this, every environment would appear in the GUI with the same name, 'Python 3'\n",
    "!mamba run -n {env['name']} kernda --display-name {env['name']} -o {prefix}/share/jupyter/kernels/python3/kernel.json"
   ]
  },
  {
   "cell_type": "markdown",
   "id": "84ddf577-9ea3-4006-9841-bfd781deb234",
   "metadata": {},
   "source": [
    "## 4. Install dolphin in the `dolphin-env` environment with pip"
   ]
  },
  {
   "cell_type": "code",
   "execution_count": 20,
   "id": "2e6cc5a1-4de7-4a06-9d50-766812cc7a8b",
   "metadata": {},
   "outputs": [
    {
     "name": "stdout",
     "output_type": "stream",
     "text": [
      "Processing /home/jovyan/dolphin\n",
      "  Installing build dependencies: started\n",
      "  Installing build dependencies: finished with status 'done'\n",
      "  Getting requirements to build wheel: started\n",
      "  Getting requirements to build wheel: finished with status 'done'\n",
      "  Installing backend dependencies: started\n",
      "  Installing backend dependencies: finished with status 'done'\n",
      "  Preparing metadata (pyproject.toml): started\n",
      "  Preparing metadata (pyproject.toml): finished with status 'done'\n",
      "Requirement already satisfied: h5py>=3.6 in /home/jovyan/.local/envs/dolphin-env/lib/python3.11/site-packages (from dolphin==0.7.0.post1.dev0+g3601816.d20231215) (3.10.0)\n",
      "Requirement already satisfied: numba>=0.54 in /home/jovyan/.local/envs/dolphin-env/lib/python3.11/site-packages (from dolphin==0.7.0.post1.dev0+g3601816.d20231215) (0.58.1)\n",
      "Requirement already satisfied: numpy>=1.20 in /home/jovyan/.local/envs/dolphin-env/lib/python3.11/site-packages (from dolphin==0.7.0.post1.dev0+g3601816.d20231215) (1.26.2)\n",
      "Requirement already satisfied: pydantic>=2.1 in /home/jovyan/.local/envs/dolphin-env/lib/python3.11/site-packages (from dolphin==0.7.0.post1.dev0+g3601816.d20231215) (2.5.2)\n",
      "Requirement already satisfied: pymp-pypi>=0.4.5 in /home/jovyan/.local/envs/dolphin-env/lib/python3.11/site-packages (from dolphin==0.7.0.post1.dev0+g3601816.d20231215) (0.4.5)\n",
      "Requirement already satisfied: pyproj>=3.3 in /home/jovyan/.local/envs/dolphin-env/lib/python3.11/site-packages (from dolphin==0.7.0.post1.dev0+g3601816.d20231215) (3.6.1)\n",
      "Requirement already satisfied: rich>=12.0 in /home/jovyan/.local/envs/dolphin-env/lib/python3.11/site-packages (from dolphin==0.7.0.post1.dev0+g3601816.d20231215) (13.7.0)\n",
      "Requirement already satisfied: ruamel-yaml>=0.15 in /home/jovyan/.local/envs/dolphin-env/lib/python3.11/site-packages (from dolphin==0.7.0.post1.dev0+g3601816.d20231215) (0.18.5)\n",
      "Requirement already satisfied: scipy>=1.5 in /home/jovyan/.local/envs/dolphin-env/lib/python3.11/site-packages (from dolphin==0.7.0.post1.dev0+g3601816.d20231215) (1.11.4)\n",
      "Requirement already satisfied: shapely>=1.8 in /home/jovyan/.local/envs/dolphin-env/lib/python3.11/site-packages (from dolphin==0.7.0.post1.dev0+g3601816.d20231215) (2.0.2)\n",
      "Requirement already satisfied: threadpoolctl>=3.0 in /home/jovyan/.local/envs/dolphin-env/lib/python3.11/site-packages (from dolphin==0.7.0.post1.dev0+g3601816.d20231215) (3.2.0)\n",
      "Requirement already satisfied: llvmlite<0.42,>=0.41.0dev0 in /home/jovyan/.local/envs/dolphin-env/lib/python3.11/site-packages (from numba>=0.54->dolphin==0.7.0.post1.dev0+g3601816.d20231215) (0.41.1)\n",
      "Requirement already satisfied: annotated-types>=0.4.0 in /home/jovyan/.local/envs/dolphin-env/lib/python3.11/site-packages (from pydantic>=2.1->dolphin==0.7.0.post1.dev0+g3601816.d20231215) (0.6.0)\n",
      "Requirement already satisfied: pydantic-core==2.14.5 in /home/jovyan/.local/envs/dolphin-env/lib/python3.11/site-packages (from pydantic>=2.1->dolphin==0.7.0.post1.dev0+g3601816.d20231215) (2.14.5)\n",
      "Requirement already satisfied: typing-extensions>=4.6.1 in /home/jovyan/.local/envs/dolphin-env/lib/python3.11/site-packages (from pydantic>=2.1->dolphin==0.7.0.post1.dev0+g3601816.d20231215) (4.9.0)\n",
      "Requirement already satisfied: certifi in /home/jovyan/.local/envs/dolphin-env/lib/python3.11/site-packages (from pyproj>=3.3->dolphin==0.7.0.post1.dev0+g3601816.d20231215) (2023.11.17)\n",
      "Requirement already satisfied: markdown-it-py>=2.2.0 in /home/jovyan/.local/envs/dolphin-env/lib/python3.11/site-packages (from rich>=12.0->dolphin==0.7.0.post1.dev0+g3601816.d20231215) (3.0.0)\n",
      "Requirement already satisfied: pygments<3.0.0,>=2.13.0 in /home/jovyan/.local/envs/dolphin-env/lib/python3.11/site-packages (from rich>=12.0->dolphin==0.7.0.post1.dev0+g3601816.d20231215) (2.17.2)\n",
      "Requirement already satisfied: ruamel.yaml.clib>=0.2.7 in /home/jovyan/.local/envs/dolphin-env/lib/python3.11/site-packages (from ruamel-yaml>=0.15->dolphin==0.7.0.post1.dev0+g3601816.d20231215) (0.2.7)\n",
      "Requirement already satisfied: mdurl~=0.1 in /home/jovyan/.local/envs/dolphin-env/lib/python3.11/site-packages (from markdown-it-py>=2.2.0->rich>=12.0->dolphin==0.7.0.post1.dev0+g3601816.d20231215) (0.1.0)\n",
      "Building wheels for collected packages: dolphin\n",
      "  Building wheel for dolphin (pyproject.toml): started\n",
      "  Building wheel for dolphin (pyproject.toml): finished with status 'done'\n",
      "  Created wheel for dolphin: filename=dolphin-0.7.0.post1.dev0+g3601816.d20231215-py3-none-any.whl size=140575 sha256=a28e08e352874cdec5a042de4316f9d0305e0ef734ea1e1e5d145adea4541785\n",
      "  Stored in directory: /tmp/pip-ephem-wheel-cache-lf50yp6t/wheels/6e/6e/61/72ed38728b485552f2848ff7f82b44aab88310191205f4d46f\n",
      "Successfully built dolphin\n",
      "Installing collected packages: dolphin\n",
      "Successfully installed dolphin-0.7.0.post1.dev0+g3601816.d20231215\n",
      "\n"
     ]
    }
   ],
   "source": [
    "with work_dir(dolphin_dir):\n",
    "    !mamba run -n {env['name']} python -m pip install ."
   ]
  },
  {
   "cell_type": "code",
   "execution_count": null,
   "id": "393c6434-5293-40ae-ab29-4c8c59fb4965",
   "metadata": {},
   "outputs": [],
   "source": []
  }
 ],
 "metadata": {
  "kernelspec": {
   "display_name": "base",
   "language": "python",
   "name": "python3"
  },
  "language_info": {
   "codemirror_mode": {
    "name": "ipython",
    "version": 3
   },
   "file_extension": ".py",
   "mimetype": "text/x-python",
   "name": "python",
   "nbconvert_exporter": "python",
   "pygments_lexer": "ipython3",
   "version": "3.10.6"
  }
 },
 "nbformat": 4,
 "nbformat_minor": 5
}
