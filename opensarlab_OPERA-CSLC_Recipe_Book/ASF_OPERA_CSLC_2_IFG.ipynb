{
 "cells": [
  {
   "cell_type": "markdown",
   "id": "5ba66bbf-ddec-485a-bfcc-bde6ac0c2b69",
   "metadata": {},
   "source": [
    "# Generate interferograms using OPERA-CSLCs downloaded from ASF\n",
    "\n",
    "Based on OPERA_Applications notebook: [Create_Interferogram_by_Streaming_CSLC-S1](https://github.com/OPERA-Cal-Val/OPERA_Applications/blob/main/CSLC/Discover/Create_Interferogram_by_Streaming_CSLC-S1.ipynb)"
   ]
  },
  {
   "cell_type": "code",
   "execution_count": null,
   "id": "3f3d9cb9-a7b5-4c34-ba1f-b400eb254af3",
   "metadata": {
    "tags": []
   },
   "outputs": [],
   "source": [
    "%matplotlib inline\n",
    "from getpass import getpass\n",
    "from pathlib import Path\n",
    "import re\n",
    "\n",
    "import h5py\n",
    "import matplotlib\n",
    "import matplotlib.pyplot as plt\n",
    "import numpy as np\n",
    "import rasterio\n",
    "from rasterio.crs import CRS\n",
    "from rasterio.transform import from_origin\n",
    "import shapely.wkt as wkt\n",
    "\n",
    "import asf_search as disco"
   ]
  },
  {
   "cell_type": "markdown",
   "id": "51dfd937-52ce-4e78-9262-cbec2372eb7d",
   "metadata": {},
   "source": [
    "**Create a directory to hold the downloaded data**"
   ]
  },
  {
   "cell_type": "code",
   "execution_count": null,
   "id": "f01c80cb-e1ab-4389-8ff6-30fbf274bc2c",
   "metadata": {},
   "outputs": [],
   "source": [
    "data_dir = Path.cwd() / 'data'\n",
    "data_dir.mkdir(exist_ok=True)"
   ]
  },
  {
   "cell_type": "markdown",
   "id": "59fe7174-76a2-4460-b586-7ce429b106cd",
   "metadata": {},
   "source": [
    "**Gather credentials for authentication with Earth Data Login**"
   ]
  },
  {
   "cell_type": "code",
   "execution_count": null,
   "id": "54c0bef2-283e-466d-958e-e3ddc91158c7",
   "metadata": {
    "tags": []
   },
   "outputs": [],
   "source": [
    "username = input('Enter your EDL username')\n",
    "password = getpass('Enter your EDL password')"
   ]
  },
  {
   "cell_type": "markdown",
   "id": "096c317f-6383-42b5-857a-cfd057997b36",
   "metadata": {},
   "source": [
    "**Start an asf_search session**"
   ]
  },
  {
   "cell_type": "code",
   "execution_count": null,
   "id": "13597db1-fea5-4704-a5a2-3dc032a962af",
   "metadata": {},
   "outputs": [],
   "source": [
    "try:\n",
    "    user_pass_session = disco.ASFSession().auth_with_creds(username, password)\n",
    "except disco.ASFAuthenticationError as e:\n",
    "    print(f'Auth failed: {e}')\n",
    "else:\n",
    "    print('Success!')"
   ]
  },
  {
   "cell_type": "markdown",
   "id": "35586584-d9d7-4c84-b8aa-382bb03fffb1",
   "metadata": {},
   "source": [
    "**Search and download data**\n",
    "\n",
    "We'll be downloading data from the [2019 Ridgecrest Earthquake](https://en.wikipedia.org/wiki/2019_Ridgecrest_earthquakes)."
   ]
  },
  {
   "cell_type": "code",
   "execution_count": null,
   "id": "4b9e30f4-ee44-4dca-ad9a-239ef603ce59",
   "metadata": {},
   "outputs": [],
   "source": [
    "granule_list = [\n",
    "    'OPERA_L2_CSLC-S1_T071-151219-IW2_20190704T135209Z_20240429T174024Z_S1A_VV_v1.1',\n",
    "    'OPERA_L2_CSLC-S1_T071-151219-IW2_20190716T135210Z_20240430T020420Z_S1A_VV_v1.1',\n",
    "    ]\n",
    "results = disco.granule_search(granule_list)\n",
    "\n",
    "for burst in results:\n",
    "    burst.download(data_dir, session=user_pass_session)\n",
    "\n",
    "bursts = list(data_dir.glob('*.h5'))\n",
    "bursts.sort()"
   ]
  },
  {
   "cell_type": "markdown",
   "id": "9d4cdb44-c660-4b94-9133-2626952cf2b9",
   "metadata": {},
   "source": [
    "**Create a list of CSLC acquisition dates**"
   ]
  },
  {
   "cell_type": "code",
   "execution_count": null,
   "id": "42cd5c55-5414-4d5c-bacb-9f7598e913a2",
   "metadata": {},
   "outputs": [],
   "source": [
    "date_regex = r\"\\d{8}T\\d{6}Z(?=_\\d{8}T\\d{6}Z)\"\n",
    "dates = []\n",
    "try:\n",
    "    for b in bursts:\n",
    "        dates.append(re.search(date_regex, str(b)).group(0))\n",
    "    dates = [d[:8] for d in dates]\n",
    "    print(dates)  \n",
    "except AttributeError:\n",
    "    raise Exception(f'Date string not found in {b}') "
   ]
  },
  {
   "cell_type": "markdown",
   "id": "048aa676-98db-4268-9098-6a7cf87f0793",
   "metadata": {},
   "source": [
    "**Load the data**"
   ]
  },
  {
   "cell_type": "code",
   "execution_count": null,
   "id": "9ce2d0ed-d791-4b90-add6-10f85a9d39b6",
   "metadata": {},
   "outputs": [],
   "source": [
    "# Get the burst ID\n",
    "burst_id_regex = r'(?<=OPERA_L2_CSLC-S1_)T\\d{3}-\\d{6}-IW\\d'\n",
    "try:\n",
    "    burst_id = re.search(burst_id_regex, str(bursts[0])).group(0)\n",
    "except AttributeError:\n",
    "    raise Exception(f'Burst ID not found in {str(bursts[0])}') \n",
    "\n",
    "# Load the reference CSLC\n",
    "with h5py.File(bursts[0], 'r') as h5:\n",
    "    bounding_polygon = h5['identification/bounding_polygon'][()].astype(str) \n",
    "    cslc_poly = wkt.loads(bounding_polygon)\n",
    "    bbox = [cslc_poly.bounds[0], cslc_poly.bounds[2], cslc_poly.bounds[1], cslc_poly.bounds[3]]\n",
    "    cslc_0 = h5['data/VV'][:]\n",
    "    \n",
    "# Load the secondary CSLC\n",
    "with h5py.File(bursts[1], 'r') as h5:\n",
    "    cslc_1 = h5[f'data/VV'][:]"
   ]
  },
  {
   "cell_type": "markdown",
   "id": "e5817264-e169-4001-b3ca-076752f04b47",
   "metadata": {},
   "source": [
    "**Generate the interferogram**"
   ]
  },
  {
   "cell_type": "code",
   "execution_count": null,
   "id": "8bb6c116-19bc-4ba2-832f-c6ac1024a455",
   "metadata": {},
   "outputs": [],
   "source": [
    "ifg = cslc_0 * np.conj(cslc_1)"
   ]
  },
  {
   "cell_type": "markdown",
   "id": "f7e1e035-63f1-46fd-acd2-eeb9ae3481de",
   "metadata": {},
   "source": [
    "**Plot the interferogram**"
   ]
  },
  {
   "cell_type": "code",
   "execution_count": null,
   "id": "f52a4356-4c7e-403e-8452-b7f912ac416e",
   "metadata": {},
   "outputs": [],
   "source": [
    "# Convert each pixel to RGB, adjusting colorscale relative to data range\n",
    "def colorize(array=[], cmap='RdBu', cmin=[], cmax=[]):\n",
    "    normed_data = (array - cmin) / (cmax - cmin)    \n",
    "    cm = matplotlib.colormaps.get_cmap(cmap)\n",
    "    return cm(normed_data) \n",
    "\n",
    "def plot_ifg(data, bbox, title):\n",
    "    fig, ax = plt.subplots(figsize=(10,3))\n",
    "    cax = ax.imshow(colorize(data, 'jet', -np.pi, np.pi), cmap='jet',interpolation='nearest', origin='upper',extent=bbox, vmin=-np.pi, vmax=np.pi)\n",
    "    cbar = fig.colorbar(cax,orientation='vertical',fraction=0.01,pad=0.02)\n",
    "    cbar.set_ticks([-np.pi, 0., np.pi])\n",
    "    cbar.set_ticklabels([r'$-\\pi$', '$0$', r'$\\pi$'])\n",
    "    ax.set_xlabel('Longitude')\n",
    "    ax.set_ylabel('Latitude')\n",
    "    ax.set_title(title,fontsize=12)\n",
    "\n",
    "plot_ifg(np.angle(ifg), bbox, f'IFG_{dates[1]}-{dates[0]}_{burst_id}')"
   ]
  },
  {
   "cell_type": "markdown",
   "id": "a4f25027-1fc4-45cc-bdc6-afb30e6ecd27",
   "metadata": {},
   "source": [
    "**Estimate the coherence**"
   ]
  },
  {
   "cell_type": "code",
   "execution_count": null,
   "id": "6a8b0cc2-4fa9-40e1-a12a-e40ee60f3751",
   "metadata": {},
   "outputs": [],
   "source": [
    "from scipy.ndimage import uniform_filter\n",
    "\n",
    "\n",
    "def estimate_coherence_from_ifg(ifg, window_size):\n",
    "    nan_mask = np.isnan(ifg)\n",
    "    zero_mask = ifg == 0\n",
    "\n",
    "    # Normalize to unit magnitude\n",
    "    inp = np.exp(1j * np.nan_to_num(np.angle(ifg)))\n",
    "\n",
    "    # The clipping is from possible partial windows producing correlation above 1\n",
    "    cor = np.clip(np.abs(uniform_filter(inp, window_size)), 0, 1)\n",
    "\n",
    "    # Return the input nans to nan\n",
    "    cor[nan_mask] = np.nan\n",
    "\n",
    "    # If the input was 0, the correlation is 0\n",
    "    cor[zero_mask] = 0\n",
    "    return cor\n",
    "\n",
    "\n",
    "coh = estimate_coherence_from_ifg(ifg, 12)"
   ]
  },
  {
   "cell_type": "markdown",
   "id": "6b54af70-d2ef-4b20-bb9c-c54c4f7e32c8",
   "metadata": {},
   "source": [
    "**Plot the coherence**"
   ]
  },
  {
   "cell_type": "code",
   "execution_count": null,
   "id": "6f1fb81e-3ea7-4374-8f06-90cfebfa3afa",
   "metadata": {},
   "outputs": [],
   "source": [
    "def plot_coh(data, bbox, title):\n",
    "    avg_corr = np.nanmean(data)\n",
    "    fig, ax = plt.subplots(figsize=(10,3))\n",
    "    cax = ax.imshow(data, cmap='gray', interpolation='nearest', origin='upper', extent=bbox, vmin=0, vmax=1)\n",
    "    cbar = fig.colorbar(cax, orientation='vertical', fraction=0.01, pad=0.02)\n",
    "    cbar.set_ticks([0, 1])\n",
    "    cbar.set_ticklabels(['0', '1'])\n",
    "    ax.set_xlabel('Longitude')\n",
    "    ax.set_ylabel('Latitude')\n",
    "    ax.set_title(f'{title}, AVG: {avg_corr:.2f}',fontsize=12)\n",
    "\n",
    "\n",
    "plot_coh(coh, bbox, f'COH_{dates[1]}-{dates[0]}_{burst_id}')"
   ]
  },
  {
   "cell_type": "markdown",
   "id": "bc2c69a9-2ce6-4687-ad52-6a62b7686f05",
   "metadata": {},
   "source": [
    "**Multilook the interferogram**"
   ]
  },
  {
   "cell_type": "code",
   "execution_count": null,
   "id": "79811201-9aac-4dc5-a097-22c50f3c2a55",
   "metadata": {},
   "outputs": [],
   "source": [
    "def multilook(input_array, rows_looks, cols_looks):\n",
    "    # Get the dimensions of the input array\n",
    "    nrows, ncols = input_array.shape\n",
    "    \n",
    "    # Calculate the dimensions of the output array\n",
    "    nrows_looked = nrows // rows_looks\n",
    "    ncols_looked = ncols // cols_looks\n",
    "\n",
    "    # Initialize the output arrays\n",
    "    temp_output = np.zeros((nrows, ncols_looked), dtype=np.complex64)\n",
    "    output = np.zeros((nrows_looked, ncols_looked), dtype=np.complex64)\n",
    "\n",
    "    # First pass: downsample columns\n",
    "    for kk in range(nrows * ncols_looked):\n",
    "        line = kk // ncols_looked\n",
    "        col = kk % ncols_looked\n",
    "        sum_val = input_array[line, col * cols_looks: (col + 1) * cols_looks].sum()\n",
    "        temp_output[line, col] = sum_val\n",
    "\n",
    "    # Second pass: downsample rows\n",
    "    for kk in range(nrows_looked * ncols_looked):\n",
    "        line = kk // ncols_looked\n",
    "        col = kk % ncols_looked\n",
    "        sum_val = temp_output[line * rows_looks:(line + 1) * rows_looks, col].sum()\n",
    "        output[line, col] = sum_val\n",
    "\n",
    "    # Normalize the output\n",
    "    output /= (cols_looks * rows_looks)\n",
    "    return output\n",
    "\n",
    "\n",
    "ifg_multilooked = multilook(ifg, 8, 4)"
   ]
  },
  {
   "cell_type": "markdown",
   "id": "ee0a55b7-1066-4682-9fb1-84ee7f657a0c",
   "metadata": {},
   "source": [
    "**Plot the multilooked interferogram**"
   ]
  },
  {
   "cell_type": "code",
   "execution_count": null,
   "id": "22cb164e-c2f5-48ed-b1b7-9fa38bcbe28c",
   "metadata": {
    "scrolled": true
   },
   "outputs": [],
   "source": [
    "plot_ifg(np.angle(ifg_multilooked), bbox, f'IFG_MULTILOOKED_{dates[1]}-{dates[0]}_{burst_id}')"
   ]
  },
  {
   "cell_type": "markdown",
   "id": "4d59b4b1-0aac-4bab-a7f7-b013908e6e47",
   "metadata": {},
   "source": [
    "**Estimate the multilooked coherence**"
   ]
  },
  {
   "cell_type": "code",
   "execution_count": null,
   "id": "acecd3e1-4b18-4657-b89a-abcd5e2069c0",
   "metadata": {},
   "outputs": [],
   "source": [
    "coh_multilooked = estimate_coherence_from_ifg(ifg_multilooked, 3)"
   ]
  },
  {
   "cell_type": "markdown",
   "id": "17259d3d-7d8b-42e0-98f1-123182912c31",
   "metadata": {},
   "source": [
    "**Plot the multilooked coherence**"
   ]
  },
  {
   "cell_type": "code",
   "execution_count": null,
   "id": "cb622ff8-2dea-47ae-88e6-ed1f5be98800",
   "metadata": {},
   "outputs": [],
   "source": [
    "plot_coh(coh_multilooked, bbox, f'COH_MULTILOOKED_{dates[1]}-{dates[0]}_{burst_id}')"
   ]
  },
  {
   "cell_type": "markdown",
   "id": "6a8bfb30-a97c-4755-b9e7-84411aa18e36",
   "metadata": {},
   "source": [
    "As you can see, coherence increases significnatly after multilooking. See [Touzi et. al, 1996](https://doi.org/10.1109/IGARSS.1996.516435) for more information."
   ]
  },
  {
   "cell_type": "code",
   "execution_count": null,
   "id": "8cb75643-0615-48c1-8b2b-bd1cd8a545b8",
   "metadata": {},
   "outputs": [],
   "source": []
  }
 ],
 "metadata": {
  "kernelspec": {
   "display_name": "Python 3 (ipykernel)",
   "language": "python",
   "name": "python3"
  },
  "language_info": {
   "codemirror_mode": {
    "name": "ipython",
    "version": 3
   },
   "file_extension": ".py",
   "mimetype": "text/x-python",
   "name": "python",
   "nbconvert_exporter": "python",
   "pygments_lexer": "ipython3",
   "version": "3.12.3"
  }
 },
 "nbformat": 4,
 "nbformat_minor": 5
}
