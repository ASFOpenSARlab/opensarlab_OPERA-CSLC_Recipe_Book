{
 "cells": [
  {
   "cell_type": "markdown",
   "id": "5ba66bbf-ddec-485a-bfcc-bde6ac0c2b69",
   "metadata": {},
   "source": [
    "# Search and Download OPERA CSLC-S1 Data from ASF\n",
    "\n",
    "## 1. Import needed Python package"
   ]
  },
  {
   "cell_type": "code",
   "execution_count": 1,
   "id": "3f3d9cb9-a7b5-4c34-ba1f-b400eb254af3",
   "metadata": {
    "tags": []
   },
   "outputs": [],
   "source": [
    "from getpass import getpass\n",
    "from pathlib import Path\n",
    "from pprint import pprint\n",
    "\n",
    "import asf_search as disco"
   ]
  },
  {
   "cell_type": "markdown",
   "id": "59fe7174-76a2-4460-b586-7ce429b106cd",
   "metadata": {},
   "source": [
    "## 2. Authenticate with asf_search and start a session\n",
    "\n",
    "**Gather credentials for authentication with Earth Data Login**"
   ]
  },
  {
   "cell_type": "code",
   "execution_count": 2,
   "id": "54c0bef2-283e-466d-958e-e3ddc91158c7",
   "metadata": {
    "tags": []
   },
   "outputs": [
    {
     "name": "stdin",
     "output_type": "stream",
     "text": [
      "Enter your EDL username aflewandowski\n",
      "Enter your EDL password ········\n"
     ]
    }
   ],
   "source": [
    "username = input(\"Enter your EDL username\")\n",
    "password = getpass(\"Enter your EDL password\")"
   ]
  },
  {
   "cell_type": "markdown",
   "id": "096c317f-6383-42b5-857a-cfd057997b36",
   "metadata": {},
   "source": [
    "**Start an asf_search session**"
   ]
  },
  {
   "cell_type": "code",
   "execution_count": 3,
   "id": "13597db1-fea5-4704-a5a2-3dc032a962af",
   "metadata": {},
   "outputs": [
    {
     "name": "stdout",
     "output_type": "stream",
     "text": [
      "Success!\n"
     ]
    }
   ],
   "source": [
    "try:\n",
    "    user_pass_session = disco.ASFSession().auth_with_creds(username, password)\n",
    "except disco.ASFAuthenticationError as e:\n",
    "    print(f'Auth failed: {e}')\n",
    "else:\n",
    "    print('Success!')"
   ]
  },
  {
   "cell_type": "markdown",
   "id": "7ebe609c-31e0-4ee5-b312-680f19f3769a",
   "metadata": {},
   "source": [
    "## 3. Create a directory in which to download the CSLCs\n",
    "\n",
    "**Create a data directory alongside the Jupyter Book containing this notebook** "
   ]
  },
  {
   "cell_type": "code",
   "execution_count": 4,
   "id": "f01c80cb-e1ab-4389-8ff6-30fbf274bc2c",
   "metadata": {
    "tags": []
   },
   "outputs": [
    {
     "name": "stdin",
     "output_type": "stream",
     "text": [
      "Enter the name of a directory to create, which will hold your downloaded CSLCs CSLC-test-4\n"
     ]
    },
    {
     "name": "stdout",
     "output_type": "stream",
     "text": [
      "Data Directory: /home/jovyan/CSLC-test-4\n"
     ]
    }
   ],
   "source": [
    "name = input(\"Enter the name of a directory to create, which will hold your downloaded CSLCs\")\n",
    "data_dir = Path.cwd().parents[2]/name\n",
    "data_dir.mkdir(exist_ok=True)\n",
    "print(f\"Data Directory: {data_dir}\")"
   ]
  },
  {
   "cell_type": "markdown",
   "id": "35586584-d9d7-4c84-b8aa-382bb03fffb1",
   "metadata": {},
   "source": [
    "## 4. Search for OPERA CSLC-S1 products\n",
    "\n",
    "**Option 1: List Search**\n",
    "\n",
    "- Search by OPERA product ID\n",
    "\n",
    "- Identify OPERA IDs with an [OPERA-S1 Geographic Search on Vertex](https://search.asf.alaska.edu/#/?maxResults=250&dataset=OPERA-S1)\n"
   ]
  },
  {
   "cell_type": "code",
   "execution_count": null,
   "id": "adf79c5e-64f4-4ac9-9f24-241560c7ed1a",
   "metadata": {},
   "outputs": [],
   "source": [
    "product_list = [\n",
    "    \"OPERA_L2_CSLC-S1_T173-370304-IW2_20231018T134413Z_20231019T180049Z_S1A_VV_v1.0\",\n",
    "    \"OPERA_L2_CSLC-S1_T173-370304-IW2_20231205T134412Z_20231206T075651Z_S1A_VV_v1.0\"\n",
    "    ]\n",
    "results = disco.granule_search(product_list)\n",
    "# print(results)"
   ]
  },
  {
   "cell_type": "markdown",
   "id": "4ad6c32a-fbaf-4b27-a34c-61cb0ecd679a",
   "metadata": {},
   "source": [
    "**Option 2: Geographic Search**\n",
    "- Search by intersection with an area of interest\n",
    "  - Define in WKT as a POINT or POLYGON\n",
    "    - `'intersectsWith': 'POINT(-117.4231 35.7597)'`\n",
    "    - `'intersectsWith': 'POLYGON((-114.9066 35.2997,-114.159 35.2997,-114.159 35.8598,-114.9066 35.8598,-114.9066 35.2997))'`"
   ]
  },
  {
   "cell_type": "code",
   "execution_count": 5,
   "id": "3cf5fd01-34fb-4837-a6d7-78c76497c647",
   "metadata": {},
   "outputs": [
    {
     "name": "stdout",
     "output_type": "stream",
     "text": [
      "['OPERA_L2_CSLC-S1_T129-275817-IW3_20231202T132032Z_20231203T085133Z_S1A_VV_v1.0.h5',\n",
      " 'OPERA_L2_CSLC-S1_T129-275817-IW3_20231202T132032Z_20231203T075751Z_S1A_VV_v1.0.h5',\n",
      " 'OPERA_L2_CSLC-S1_T129-275817-IW3_20231120T132032Z_20231205T220247Z_S1A_VV_v1.0.h5',\n",
      " 'OPERA_L2_CSLC-S1_T129-275817-IW3_20231108T132032Z_20231114T180748Z_S1A_VV_v1.0.h5',\n",
      " 'OPERA_L2_CSLC-S1_T129-275817-IW3_20231027T132033Z_20231028T203147Z_S1A_VV_v1.0.h5',\n",
      " 'OPERA_L2_CSLC-S1_T129-275817-IW3_20231015T132033Z_20231016T163215Z_S1A_VV_v1.0.h5']\n"
     ]
    }
   ],
   "source": [
    "options = {\n",
    "    'intersectsWith': 'POINT(-111.1218 32.6765)',\n",
    "    'dataset': 'OPERA-S1',\n",
    "    'start': '2019-07-03T00:00:00Z',\n",
    "    'end': '2023-12-11T00:00:00Z',\n",
    "    'flightDirection': 'DESCENDING',\n",
    "    'relativeOrbit': '129',\n",
    "    'processingLevel': [\n",
    "        'CSLC',\n",
    "        # 'CSLC-STATIC'\n",
    "    ],\n",
    "    'maxResults': '1000'\n",
    "}\n",
    "\n",
    "results = disco.search(**options)\n",
    "pprint([r.properties['fileName'] for r in results])"
   ]
  },
  {
   "cell_type": "markdown",
   "id": "1bc406da-59fd-46b6-95c6-676f7c5cc221",
   "metadata": {},
   "source": [
    "## Download Data"
   ]
  },
  {
   "cell_type": "code",
   "execution_count": 6,
   "id": "4b9e30f4-ee44-4dca-ad9a-239ef603ce59",
   "metadata": {},
   "outputs": [],
   "source": [
    "for burst in results:\n",
    "    burst.download(data_dir, session=user_pass_session)"
   ]
  },
  {
   "cell_type": "code",
   "execution_count": 3,
   "id": "dc32aa30-6ce3-4bf1-ac3d-0cd0b2449abe",
   "metadata": {},
   "outputs": [],
   "source": [
    "from pathlib import Path\n",
    "import os"
   ]
  },
  {
   "cell_type": "code",
   "execution_count": 5,
   "id": "229e9bac-bae8-402b-a4fe-a7b6d9eb29fc",
   "metadata": {},
   "outputs": [],
   "source": [
    " os.chdir(Path.home())"
   ]
  },
  {
   "cell_type": "code",
   "execution_count": 7,
   "id": "d87cac81-5e4a-4b58-b78d-ccefd605ac91",
   "metadata": {},
   "outputs": [
    {
     "name": "stdout",
     "output_type": "stream",
     "text": [
      "\n",
      "# >>> conda initialize >>>\n",
      "# !! Contents within this block are managed by 'conda init' !!\n",
      "__conda_setup=\"$('/opt/conda/bin/conda' 'shell.bash' 'hook' 2> /dev/null)\"\n",
      "if [ $? -eq 0 ]; then\n",
      "    eval \"$__conda_setup\"\n",
      "else\n",
      "    if [ -f \"/opt/conda/etc/profile.d/conda.sh\" ]; then\n",
      "        . \"/opt/conda/etc/profile.d/conda.sh\"\n",
      "    else\n",
      "        export PATH=\"/opt/conda/bin:$PATH\"\n",
      "    fi\n",
      "fi\n",
      "unset __conda_setup\n",
      "# <<< conda initialize <<<\n",
      "\n",
      "chmod 400 /home/jovyan/.ssh/id_github_ed25519\n",
      "eval \"$(ssh-agent -s)\"\n",
      "ssh-add ~/.ssh/id_github_ed25519\n"
     ]
    }
   ],
   "source": [
    "!cat .bashrc\n"
   ]
  },
  {
   "cell_type": "code",
   "execution_count": 8,
   "id": "e62b4375-77b6-4364-97a2-c6171adfddc7",
   "metadata": {},
   "outputs": [
    {
     "name": "stdout",
     "output_type": "stream",
     "text": [
      "if [ -s ~/.bashrc ]; then\n",
      "    source ~/.bashrc;\n",
      "fi\n"
     ]
    }
   ],
   "source": [
    "!cat .bash_profile"
   ]
  },
  {
   "cell_type": "code",
   "execution_count": null,
   "id": "ab5f7403-2fba-4353-9ce7-1d030a3bff43",
   "metadata": {},
   "outputs": [],
   "source": []
  }
 ],
 "metadata": {
  "kernelspec": {
   "display_name": "hydrosar [conda env:.local-hydrosar]",
   "language": "python",
   "name": "conda-env-.local-hydrosar-py"
  },
  "language_info": {
   "codemirror_mode": {
    "name": "ipython",
    "version": 3
   },
   "file_extension": ".py",
   "mimetype": "text/x-python",
   "name": "python",
   "nbconvert_exporter": "python",
   "pygments_lexer": "ipython3",
   "version": "3.8.18"
  }
 },
 "nbformat": 4,
 "nbformat_minor": 5
}
